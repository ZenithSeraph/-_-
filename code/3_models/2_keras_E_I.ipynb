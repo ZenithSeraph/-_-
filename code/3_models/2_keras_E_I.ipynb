{
 "cells": [
  {
   "cell_type": "markdown",
   "metadata": {},
   "source": [
    "# Model Development: \n",
    "## Neural Network on Target Trait E_I"
   ]
  },
  {
   "cell_type": "code",
   "execution_count": 1,
   "metadata": {},
   "outputs": [],
   "source": [
    "import pandas as pd\n",
    "import numpy as np\n",
    "from keras.preprocessing.text import Tokenizer\n",
    "\n",
    "from keras.models import Sequential\n",
    "from keras.layers import SimpleRNN, LSTM, GRU, Dense\n",
    "from keras.layers import Flatten\n",
    "from keras.layers.embeddings import Embedding\n",
    "from keras.preprocessing.text import Tokenizer\n",
    "from sklearn.model_selection import train_test_split\n",
    "import matplotlib.pyplot as plt\n",
    "from keras.layers import Bidirectional\n",
    "from keras.callbacks import EarlyStopping\n",
    "from keras.preprocessing.sequence import pad_sequences\n",
    "\n",
    "from keras.layers.convolutional import Conv1D\n",
    "from keras.layers.convolutional import MaxPooling1D"
   ]
  },
  {
   "cell_type": "code",
   "execution_count": 2,
   "metadata": {},
   "outputs": [],
   "source": [
    "data = pd.read_csv('../data/cleaned/expanded_mbti_df.csv')"
   ]
  },
  {
   "cell_type": "code",
   "execution_count": 3,
   "metadata": {},
   "outputs": [
    {
     "data": {
      "text/html": [
       "<div>\n",
       "<style scoped>\n",
       "    .dataframe tbody tr th:only-of-type {\n",
       "        vertical-align: middle;\n",
       "    }\n",
       "\n",
       "    .dataframe tbody tr th {\n",
       "        vertical-align: top;\n",
       "    }\n",
       "\n",
       "    .dataframe thead th {\n",
       "        text-align: right;\n",
       "    }\n",
       "</style>\n",
       "<table border=\"1\" class=\"dataframe\">\n",
       "  <thead>\n",
       "    <tr style=\"text-align: right;\">\n",
       "      <th></th>\n",
       "      <th>type</th>\n",
       "      <th>posts</th>\n",
       "      <th>comp_score</th>\n",
       "      <th>neg_score</th>\n",
       "      <th>neu_score</th>\n",
       "      <th>pos_score</th>\n",
       "      <th>post_count</th>\n",
       "      <th>avg_word_count</th>\n",
       "      <th>posts_cleaned</th>\n",
       "      <th>cleaned_comp_score</th>\n",
       "      <th>...</th>\n",
       "      <th>diff_comp_init-no_punct</th>\n",
       "      <th>E_I</th>\n",
       "      <th>N_S</th>\n",
       "      <th>F_T</th>\n",
       "      <th>J_P</th>\n",
       "      <th>E_I_code</th>\n",
       "      <th>N_S_code</th>\n",
       "      <th>F_T_code</th>\n",
       "      <th>J_P_code</th>\n",
       "      <th>type_code</th>\n",
       "    </tr>\n",
       "  </thead>\n",
       "  <tbody>\n",
       "    <tr>\n",
       "      <th>0</th>\n",
       "      <td>INFJ</td>\n",
       "      <td>[\"'http://www.youtube.com/watch?v=qsXHcwe3krw\"...</td>\n",
       "      <td>0.9877</td>\n",
       "      <td>0.054</td>\n",
       "      <td>0.829</td>\n",
       "      <td>0.116</td>\n",
       "      <td>50</td>\n",
       "      <td>90</td>\n",
       "      <td>['enfp and intj moments sportscenter not top t...</td>\n",
       "      <td>0.9839</td>\n",
       "      <td>...</td>\n",
       "      <td>0.0074</td>\n",
       "      <td>I</td>\n",
       "      <td>N</td>\n",
       "      <td>F</td>\n",
       "      <td>J</td>\n",
       "      <td>0</td>\n",
       "      <td>1</td>\n",
       "      <td>1</td>\n",
       "      <td>1</td>\n",
       "      <td>111</td>\n",
       "    </tr>\n",
       "    <tr>\n",
       "      <th>1</th>\n",
       "      <td>ENTP</td>\n",
       "      <td>[\"'I'm finding the lack of me in these posts v...</td>\n",
       "      <td>0.9994</td>\n",
       "      <td>0.068</td>\n",
       "      <td>0.752</td>\n",
       "      <td>0.180</td>\n",
       "      <td>50</td>\n",
       "      <td>138</td>\n",
       "      <td>[\"'I'm finding the lack of me in these posts v...</td>\n",
       "      <td>0.9993</td>\n",
       "      <td>...</td>\n",
       "      <td>0.0009</td>\n",
       "      <td>E</td>\n",
       "      <td>N</td>\n",
       "      <td>T</td>\n",
       "      <td>P</td>\n",
       "      <td>1</td>\n",
       "      <td>1</td>\n",
       "      <td>0</td>\n",
       "      <td>0</td>\n",
       "      <td>1100</td>\n",
       "    </tr>\n",
       "    <tr>\n",
       "      <th>2</th>\n",
       "      <td>INTP</td>\n",
       "      <td>[\"'Good one  _____   https://www.youtube.com/w...</td>\n",
       "      <td>0.9985</td>\n",
       "      <td>0.074</td>\n",
       "      <td>0.751</td>\n",
       "      <td>0.175</td>\n",
       "      <td>50</td>\n",
       "      <td>102</td>\n",
       "      <td>[\"'Good one _____\", \"Of course, to which I say...</td>\n",
       "      <td>0.9985</td>\n",
       "      <td>...</td>\n",
       "      <td>0.0009</td>\n",
       "      <td>I</td>\n",
       "      <td>N</td>\n",
       "      <td>T</td>\n",
       "      <td>P</td>\n",
       "      <td>0</td>\n",
       "      <td>1</td>\n",
       "      <td>0</td>\n",
       "      <td>0</td>\n",
       "      <td>100</td>\n",
       "    </tr>\n",
       "    <tr>\n",
       "      <th>3</th>\n",
       "      <td>INTJ</td>\n",
       "      <td>[\"'Dear INTP,   I enjoyed our conversation the...</td>\n",
       "      <td>0.9966</td>\n",
       "      <td>0.054</td>\n",
       "      <td>0.841</td>\n",
       "      <td>0.106</td>\n",
       "      <td>50</td>\n",
       "      <td>122</td>\n",
       "      <td>[\"'Dear INTP, I enjoyed our conversation the o...</td>\n",
       "      <td>0.9972</td>\n",
       "      <td>...</td>\n",
       "      <td>-0.0005</td>\n",
       "      <td>I</td>\n",
       "      <td>N</td>\n",
       "      <td>T</td>\n",
       "      <td>J</td>\n",
       "      <td>0</td>\n",
       "      <td>1</td>\n",
       "      <td>0</td>\n",
       "      <td>1</td>\n",
       "      <td>101</td>\n",
       "    </tr>\n",
       "    <tr>\n",
       "      <th>4</th>\n",
       "      <td>ENTJ</td>\n",
       "      <td>[\"'You're fired.\", \"That's another silly misco...</td>\n",
       "      <td>0.9725</td>\n",
       "      <td>0.114</td>\n",
       "      <td>0.748</td>\n",
       "      <td>0.138</td>\n",
       "      <td>50</td>\n",
       "      <td>119</td>\n",
       "      <td>[\"'You're fired.\", \"That's another silly misco...</td>\n",
       "      <td>0.9420</td>\n",
       "      <td>...</td>\n",
       "      <td>0.0218</td>\n",
       "      <td>E</td>\n",
       "      <td>N</td>\n",
       "      <td>T</td>\n",
       "      <td>J</td>\n",
       "      <td>1</td>\n",
       "      <td>1</td>\n",
       "      <td>0</td>\n",
       "      <td>1</td>\n",
       "      <td>1101</td>\n",
       "    </tr>\n",
       "  </tbody>\n",
       "</table>\n",
       "<p>5 rows × 41 columns</p>\n",
       "</div>"
      ],
      "text/plain": [
       "   type                                              posts  comp_score  \\\n",
       "0  INFJ  [\"'http://www.youtube.com/watch?v=qsXHcwe3krw\"...      0.9877   \n",
       "1  ENTP  [\"'I'm finding the lack of me in these posts v...      0.9994   \n",
       "2  INTP  [\"'Good one  _____   https://www.youtube.com/w...      0.9985   \n",
       "3  INTJ  [\"'Dear INTP,   I enjoyed our conversation the...      0.9966   \n",
       "4  ENTJ  [\"'You're fired.\", \"That's another silly misco...      0.9725   \n",
       "\n",
       "   neg_score  neu_score  pos_score  post_count  avg_word_count  \\\n",
       "0      0.054      0.829      0.116          50              90   \n",
       "1      0.068      0.752      0.180          50             138   \n",
       "2      0.074      0.751      0.175          50             102   \n",
       "3      0.054      0.841      0.106          50             122   \n",
       "4      0.114      0.748      0.138          50             119   \n",
       "\n",
       "                                       posts_cleaned  cleaned_comp_score  ...  \\\n",
       "0  ['enfp and intj moments sportscenter not top t...              0.9839  ...   \n",
       "1  [\"'I'm finding the lack of me in these posts v...              0.9993  ...   \n",
       "2  [\"'Good one _____\", \"Of course, to which I say...              0.9985  ...   \n",
       "3  [\"'Dear INTP, I enjoyed our conversation the o...              0.9972  ...   \n",
       "4  [\"'You're fired.\", \"That's another silly misco...              0.9420  ...   \n",
       "\n",
       "   diff_comp_init-no_punct  E_I  N_S  F_T  J_P E_I_code  N_S_code  F_T_code  \\\n",
       "0                   0.0074    I    N    F    J        0         1         1   \n",
       "1                   0.0009    E    N    T    P        1         1         0   \n",
       "2                   0.0009    I    N    T    P        0         1         0   \n",
       "3                  -0.0005    I    N    T    J        0         1         0   \n",
       "4                   0.0218    E    N    T    J        1         1         0   \n",
       "\n",
       "  J_P_code  type_code  \n",
       "0        1        111  \n",
       "1        0       1100  \n",
       "2        0        100  \n",
       "3        1        101  \n",
       "4        1       1101  \n",
       "\n",
       "[5 rows x 41 columns]"
      ]
     },
     "execution_count": 3,
     "metadata": {},
     "output_type": "execute_result"
    }
   ],
   "source": [
    "data.head()"
   ]
  },
  {
   "cell_type": "code",
   "execution_count": 4,
   "metadata": {},
   "outputs": [],
   "source": [
    "X = data.posts_no_digits"
   ]
  },
  {
   "cell_type": "code",
   "execution_count": 5,
   "metadata": {},
   "outputs": [],
   "source": [
    "y = data.E_I_code"
   ]
  },
  {
   "cell_type": "code",
   "execution_count": 6,
   "metadata": {},
   "outputs": [],
   "source": [
    "X_train, X_test, y_train, y_test = train_test_split(X, y, test_size=.2, stratify = y)"
   ]
  },
  {
   "cell_type": "code",
   "execution_count": 7,
   "metadata": {},
   "outputs": [],
   "source": [
    "tokenizer = Tokenizer(750)\n",
    "\n",
    "tokenizer.fit_on_texts(X_train)\n",
    "\n",
    "x_train = tokenizer.texts_to_sequences(X_train)\n",
    "x_test = tokenizer.texts_to_sequences(X_test)\n",
    "\n",
    "x_train = pad_sequences(x_train)\n",
    "x_test = pad_sequences(x_test)"
   ]
  },
  {
   "cell_type": "markdown",
   "metadata": {},
   "source": [
    "<br>\n",
    "\n",
    "***\n",
    "***\n",
    "***\n",
    "\n",
    "<br>"
   ]
  },
  {
   "cell_type": "code",
   "execution_count": 8,
   "metadata": {},
   "outputs": [
    {
     "name": "stdout",
     "output_type": "stream",
     "text": [
      "Epoch 1/25\n",
      "217/217 [==============================] - 960s 4s/step - loss: 0.5485 - accuracy: 0.7679 - val_loss: 0.5375 - val_accuracy: 0.7695\n",
      "Epoch 2/25\n",
      "217/217 [==============================] - 818s 4s/step - loss: 0.5244 - accuracy: 0.7700 - val_loss: 0.5309 - val_accuracy: 0.7706\n",
      "Epoch 3/25\n",
      "217/217 [==============================] - 962s 4s/step - loss: 0.5107 - accuracy: 0.7774 - val_loss: 0.5334 - val_accuracy: 0.7700\n",
      "Epoch 4/25\n",
      "217/217 [==============================] - 994s 5s/step - loss: 0.5387 - accuracy: 0.7697 - val_loss: 0.5449 - val_accuracy: 0.7695\n",
      "Epoch 5/25\n",
      "217/217 [==============================] - 1078s 5s/step - loss: 0.5407 - accuracy: 0.7696 - val_loss: 0.5407 - val_accuracy: 0.7695\n",
      "Epoch 6/25\n",
      "217/217 [==============================] - 1143s 5s/step - loss: 0.5412 - accuracy: 0.7696 - val_loss: 0.5405 - val_accuracy: 0.7695\n",
      "Epoch 7/25\n",
      "217/217 [==============================] - 1032s 5s/step - loss: 0.5405 - accuracy: 0.7697 - val_loss: 0.5401 - val_accuracy: 0.7695\n"
     ]
    }
   ],
   "source": [
    "model_5 = Sequential()\n",
    "model_5.add(Embedding(input_dim = tokenizer.num_words, output_dim = 64))\n",
    "model_5.add(LSTM(64, return_sequences = True, dropout = 0.2, recurrent_dropout = 0.2))\n",
    "model_5.add(LSTM(32, dropout = 0.2, recurrent_dropout = 0.2))\n",
    "model_5.add(Dense(200, activation = 'relu'))\n",
    "model_5.add(Dense(1, activation = 'sigmoid'))\n",
    "\n",
    "model_5.compile(loss = 'binary_crossentropy', metrics = ['accuracy'], optimizer = 'adam')\n",
    "\n",
    "history_5 = model_5.fit(x_train, y_train, validation_data=(x_test, y_test), epochs = 25, verbose=1, callbacks = EarlyStopping(monitor='val_accuracy', patience=5))"
   ]
  },
  {
   "cell_type": "code",
   "execution_count": 9,
   "metadata": {},
   "outputs": [
    {
     "data": {
      "text/plain": [
       "Text(0.5, 1.0, 'Results')"
      ]
     },
     "execution_count": 9,
     "metadata": {},
     "output_type": "execute_result"
    },
    {
     "data": {
      "image/png": "[encoded data removed]",
      "text/plain": [
       "<Figure size 432x288 with 1 Axes>"
      ]
     },
     "metadata": {
      "needs_background": "light"
     },
     "output_type": "display_data"
    }
   ],
   "source": [
    "plt.plot(history_5.history['val_accuracy'], label='Val Accuracy')\n",
    "plt.plot(history_5.history['accuracy'], label='Train Accuracy')\n",
    "plt.legend()\n",
    "plt.xlabel('Epoch')\n",
    "plt.ylabel('Accuracy')\n",
    "plt.title('Results')"
   ]
  },
  {
   "cell_type": "markdown",
   "metadata": {},
   "source": [
    "<br>\n",
    "\n",
    "***\n",
    "***\n",
    "***\n",
    "\n",
    "<br>"
   ]
  },
  {
   "cell_type": "code",
   "execution_count": 10,
   "metadata": {},
   "outputs": [
    {
     "name": "stdout",
     "output_type": "stream",
     "text": [
      "Epoch 1/25\n",
      "217/217 [==============================] - 47s 215ms/step - loss: 0.5421 - accuracy: 0.7694 - val_loss: 0.5269 - val_accuracy: 0.7696\n",
      "Epoch 2/25\n",
      "217/217 [==============================] - 45s 210ms/step - loss: 0.5280 - accuracy: 0.7724 - val_loss: 0.5280 - val_accuracy: 0.7745\n",
      "Epoch 3/25\n",
      "217/217 [==============================] - 45s 209ms/step - loss: 0.5214 - accuracy: 0.7747 - val_loss: 0.5202 - val_accuracy: 0.7753\n",
      "Epoch 4/25\n",
      "217/217 [==============================] - 46s 210ms/step - loss: 0.5179 - accuracy: 0.7762 - val_loss: 0.5192 - val_accuracy: 0.7766\n",
      "Epoch 5/25\n",
      "217/217 [==============================] - 49s 224ms/step - loss: 0.5170 - accuracy: 0.7771 - val_loss: 0.5237 - val_accuracy: 0.7773\n",
      "Epoch 6/25\n",
      "217/217 [==============================] - 59s 271ms/step - loss: 0.5131 - accuracy: 0.7782 - val_loss: 0.5190 - val_accuracy: 0.7779\n",
      "Epoch 7/25\n",
      "217/217 [==============================] - 59s 273ms/step - loss: 0.5096 - accuracy: 0.7794 - val_loss: 0.5201 - val_accuracy: 0.7776\n",
      "Epoch 8/25\n",
      "217/217 [==============================] - 50s 231ms/step - loss: 0.5067 - accuracy: 0.7802 - val_loss: 0.5215 - val_accuracy: 0.7781\n",
      "Epoch 9/25\n",
      "217/217 [==============================] - 62s 285ms/step - loss: 0.5037 - accuracy: 0.7814 - val_loss: 0.5272 - val_accuracy: 0.7734\n",
      "Epoch 10/25\n",
      "217/217 [==============================] - 67s 308ms/step - loss: 0.4996 - accuracy: 0.7828 - val_loss: 0.5244 - val_accuracy: 0.7765\n",
      "Epoch 11/25\n",
      "217/217 [==============================] - 67s 308ms/step - loss: 0.4934 - accuracy: 0.7847 - val_loss: 0.5305 - val_accuracy: 0.7696\n",
      "Epoch 12/25\n",
      "217/217 [==============================] - 73s 335ms/step - loss: 0.4860 - accuracy: 0.7874 - val_loss: 0.5452 - val_accuracy: 0.7559\n",
      "Epoch 13/25\n",
      "217/217 [==============================] - 74s 339ms/step - loss: 0.4792 - accuracy: 0.7900 - val_loss: 0.5479 - val_accuracy: 0.7716\n"
     ]
    }
   ],
   "source": [
    "model_6 = Sequential()\n",
    "model_6.add(Embedding(input_dim = tokenizer.num_words, output_dim = 64))\n",
    "model_6.add(Conv1D(64, 10, activation = 'relu'))\n",
    "model_6.add(MaxPooling1D(5))\n",
    "model_6.add(Conv1D(32, 7, activation = 'relu'))\n",
    "model_6.add(Dense(1, activation = 'sigmoid'))\n",
    "\n",
    "model_6.compile(loss = 'binary_crossentropy', metrics = ['accuracy'], optimizer = 'adam')\n",
    "\n",
    "history_6 = model_6.fit(x_train, y_train, validation_data=(x_test, y_test), epochs = 25, verbose=1, callbacks = EarlyStopping(monitor='val_accuracy', patience=5))"
   ]
  },
  {
   "cell_type": "code",
   "execution_count": 11,
   "metadata": {},
   "outputs": [
    {
     "data": {
      "text/plain": [
       "Text(0.5, 1.0, 'Results')"
      ]
     },
     "execution_count": 11,
     "metadata": {},
     "output_type": "execute_result"
    },
    {
     "data": {
      "image/png": "[encoded data removed]",
      "text/plain": [
       "<Figure size 432x288 with 1 Axes>"
      ]
     },
     "metadata": {
      "needs_background": "light"
     },
     "output_type": "display_data"
    }
   ],
   "source": [
    "plt.plot(history_6.history['val_accuracy'], label='Val Accuracy')\n",
    "plt.plot(history_6.history['accuracy'], label='Train Accuracy')\n",
    "plt.legend()\n",
    "plt.xlabel('Epoch')\n",
    "plt.ylabel('Accuracy')\n",
    "plt.title('Results')"
   ]
  },
  {
   "cell_type": "markdown",
   "metadata": {},
   "source": [
    "<br>\n",
    "\n",
    "***\n",
    "***\n",
    "***\n",
    "\n",
    "<br>"
   ]
  },
  {
   "cell_type": "code",
   "execution_count": 12,
   "metadata": {},
   "outputs": [
    {
     "name": "stdout",
     "output_type": "stream",
     "text": [
      "Epoch 1/25\n",
      "217/217 [==============================] - 79s 366ms/step - loss: 0.5418 - accuracy: 0.7675 - val_loss: 0.5295 - val_accuracy: 0.7709\n",
      "Epoch 2/25\n",
      "217/217 [==============================] - 73s 334ms/step - loss: 0.5218 - accuracy: 0.7732 - val_loss: 0.5196 - val_accuracy: 0.7747\n",
      "Epoch 3/25\n",
      "217/217 [==============================] - 76s 352ms/step - loss: 0.5188 - accuracy: 0.7754 - val_loss: 0.5220 - val_accuracy: 0.7758\n",
      "Epoch 4/25\n",
      "217/217 [==============================] - 73s 335ms/step - loss: 0.5172 - accuracy: 0.7765 - val_loss: 0.5220 - val_accuracy: 0.7750\n",
      "Epoch 5/25\n",
      "217/217 [==============================] - 71s 329ms/step - loss: 0.5135 - accuracy: 0.7780 - val_loss: 0.5244 - val_accuracy: 0.7741\n",
      "Epoch 6/25\n",
      "217/217 [==============================] - 90s 414ms/step - loss: 0.5132 - accuracy: 0.7788 - val_loss: 0.5181 - val_accuracy: 0.7783\n",
      "Epoch 7/25\n",
      "217/217 [==============================] - 74s 342ms/step - loss: 0.5101 - accuracy: 0.7795 - val_loss: 0.5175 - val_accuracy: 0.7790\n",
      "Epoch 8/25\n",
      "217/217 [==============================] - 72s 331ms/step - loss: 0.5076 - accuracy: 0.7806 - val_loss: 0.5264 - val_accuracy: 0.7779\n",
      "Epoch 9/25\n",
      "217/217 [==============================] - 69s 319ms/step - loss: 0.5031 - accuracy: 0.7824 - val_loss: 0.5304 - val_accuracy: 0.7774\n",
      "Epoch 10/25\n",
      "217/217 [==============================] - 73s 339ms/step - loss: 0.5031 - accuracy: 0.7827 - val_loss: 0.5309 - val_accuracy: 0.7773\n",
      "Epoch 11/25\n",
      "217/217 [==============================] - 73s 338ms/step - loss: 0.4974 - accuracy: 0.7842 - val_loss: 0.5238 - val_accuracy: 0.7774\n",
      "Epoch 12/25\n",
      "217/217 [==============================] - 77s 355ms/step - loss: 0.4909 - accuracy: 0.7864 - val_loss: 0.5280 - val_accuracy: 0.7765\n"
     ]
    }
   ],
   "source": [
    "model_7 = Sequential()\n",
    "model_7.add(Embedding(input_dim = tokenizer.num_words, output_dim = 64))\n",
    "model_7.add(Conv1D(64, 10, activation = 'relu'))\n",
    "model_7.add(MaxPooling1D(5))\n",
    "model_7.add(Conv1D(32, 7, activation = 'relu'))\n",
    "model_7.add(MaxPooling1D(2))\n",
    "model_7.add(Dense(1, activation = 'sigmoid'))\n",
    "\n",
    "model_7.compile(loss = 'binary_crossentropy', metrics = ['accuracy'], optimizer = 'adam')\n",
    "\n",
    "history_7 = model_7.fit(x_train, y_train, validation_data=(x_test, y_test), epochs = 25, verbose=1, callbacks = EarlyStopping(monitor='val_accuracy', patience=5))"
   ]
  },
  {
   "cell_type": "code",
   "execution_count": 13,
   "metadata": {},
   "outputs": [
    {
     "data": {
      "text/plain": [
       "Text(0.5, 1.0, 'Results')"
      ]
     },
     "execution_count": 13,
     "metadata": {},
     "output_type": "execute_result"
    },
    {
     "data": {
      "image/png": "[encoded data removed]",
      "text/plain": [
       "<Figure size 432x288 with 1 Axes>"
      ]
     },
     "metadata": {
      "needs_background": "light"
     },
     "output_type": "display_data"
    }
   ],
   "source": [
    "plt.plot(history_7.history['val_accuracy'], label='Val Accuracy')\n",
    "plt.plot(history_7.history['accuracy'], label='Train Accuracy')\n",
    "plt.legend()\n",
    "plt.xlabel('Epoch')\n",
    "plt.ylabel('Accuracy')\n",
    "plt.title('Results')"
   ]
  },
  {
   "cell_type": "code",
   "execution_count": null,
   "metadata": {},
   "outputs": [],
   "source": []
  }
 ],
 "metadata": {
  "kernelspec": {
   "display_name": "Python 3",
   "language": "python",
   "name": "python3"
  },
  "language_info": {
   "codemirror_mode": {
    "name": "ipython",
    "version": 3
   },
   "file_extension": ".py",
   "mimetype": "text/x-python",
   "name": "python",
   "nbconvert_exporter": "python",
   "pygments_lexer": "ipython3",
   "version": "3.8.5"
  }
 },
 "nbformat": 4,
 "nbformat_minor": 4
}
