{
 "cells": [
  {
   "cell_type": "markdown",
   "metadata": {},
   "source": [
    "# Model Development: \n",
    "## Neural Network on Target Trait F_T"
   ]
  },
  {
   "cell_type": "code",
   "execution_count": 2,
   "metadata": {},
   "outputs": [],
   "source": [
    "import pandas as pd\n",
    "import numpy as np\n",
    "from keras.preprocessing.text import Tokenizer\n",
    "\n",
    "from keras.models import Sequential\n",
    "from keras.layers import SimpleRNN, LSTM, GRU, Dense\n",
    "from keras.layers import Flatten\n",
    "from keras.layers.embeddings import Embedding\n",
    "from keras.preprocessing.text import Tokenizer\n",
    "from sklearn.model_selection import train_test_split\n",
    "import matplotlib.pyplot as plt\n",
    "from keras.layers import Bidirectional\n",
    "from keras.callbacks import EarlyStopping\n",
    "from keras.preprocessing.sequence import pad_sequences\n",
    "\n",
    "from keras.layers.convolutional import Conv1D\n",
    "from keras.layers.convolutional import MaxPooling1D"
   ]
  },
  {
   "cell_type": "code",
   "execution_count": 3,
   "metadata": {},
   "outputs": [],
   "source": [
    "data = pd.read_csv('../data/cleaned/expanded_mbti_df.csv')"
   ]
  },
  {
   "cell_type": "code",
   "execution_count": 4,
   "metadata": {},
   "outputs": [
    {
     "data": {
      "text/html": [
       "<div>\n",
       "<style scoped>\n",
       "    .dataframe tbody tr th:only-of-type {\n",
       "        vertical-align: middle;\n",
       "    }\n",
       "\n",
       "    .dataframe tbody tr th {\n",
       "        vertical-align: top;\n",
       "    }\n",
       "\n",
       "    .dataframe thead th {\n",
       "        text-align: right;\n",
       "    }\n",
       "</style>\n",
       "<table border=\"1\" class=\"dataframe\">\n",
       "  <thead>\n",
       "    <tr style=\"text-align: right;\">\n",
       "      <th></th>\n",
       "      <th>type</th>\n",
       "      <th>posts</th>\n",
       "      <th>comp_score</th>\n",
       "      <th>neg_score</th>\n",
       "      <th>neu_score</th>\n",
       "      <th>pos_score</th>\n",
       "      <th>post_count</th>\n",
       "      <th>avg_word_count</th>\n",
       "      <th>posts_cleaned</th>\n",
       "      <th>cleaned_comp_score</th>\n",
       "      <th>...</th>\n",
       "      <th>diff_comp_init-no_punct</th>\n",
       "      <th>E_I</th>\n",
       "      <th>N_S</th>\n",
       "      <th>F_T</th>\n",
       "      <th>J_P</th>\n",
       "      <th>E_I_code</th>\n",
       "      <th>N_S_code</th>\n",
       "      <th>F_T_code</th>\n",
       "      <th>J_P_code</th>\n",
       "      <th>type_code</th>\n",
       "    </tr>\n",
       "  </thead>\n",
       "  <tbody>\n",
       "    <tr>\n",
       "      <th>0</th>\n",
       "      <td>INFJ</td>\n",
       "      <td>[\"'http://www.youtube.com/watch?v=qsXHcwe3krw\"...</td>\n",
       "      <td>0.9877</td>\n",
       "      <td>0.054</td>\n",
       "      <td>0.829</td>\n",
       "      <td>0.116</td>\n",
       "      <td>50</td>\n",
       "      <td>90</td>\n",
       "      <td>['enfp and intj moments sportscenter not top t...</td>\n",
       "      <td>0.9839</td>\n",
       "      <td>...</td>\n",
       "      <td>0.0074</td>\n",
       "      <td>I</td>\n",
       "      <td>N</td>\n",
       "      <td>F</td>\n",
       "      <td>J</td>\n",
       "      <td>0</td>\n",
       "      <td>1</td>\n",
       "      <td>1</td>\n",
       "      <td>1</td>\n",
       "      <td>111</td>\n",
       "    </tr>\n",
       "    <tr>\n",
       "      <th>1</th>\n",
       "      <td>ENTP</td>\n",
       "      <td>[\"'I'm finding the lack of me in these posts v...</td>\n",
       "      <td>0.9994</td>\n",
       "      <td>0.068</td>\n",
       "      <td>0.752</td>\n",
       "      <td>0.180</td>\n",
       "      <td>50</td>\n",
       "      <td>138</td>\n",
       "      <td>[\"'I'm finding the lack of me in these posts v...</td>\n",
       "      <td>0.9993</td>\n",
       "      <td>...</td>\n",
       "      <td>0.0009</td>\n",
       "      <td>E</td>\n",
       "      <td>N</td>\n",
       "      <td>T</td>\n",
       "      <td>P</td>\n",
       "      <td>1</td>\n",
       "      <td>1</td>\n",
       "      <td>0</td>\n",
       "      <td>0</td>\n",
       "      <td>1100</td>\n",
       "    </tr>\n",
       "    <tr>\n",
       "      <th>2</th>\n",
       "      <td>INTP</td>\n",
       "      <td>[\"'Good one  _____   https://www.youtube.com/w...</td>\n",
       "      <td>0.9985</td>\n",
       "      <td>0.074</td>\n",
       "      <td>0.751</td>\n",
       "      <td>0.175</td>\n",
       "      <td>50</td>\n",
       "      <td>102</td>\n",
       "      <td>[\"'Good one _____\", \"Of course, to which I say...</td>\n",
       "      <td>0.9985</td>\n",
       "      <td>...</td>\n",
       "      <td>0.0009</td>\n",
       "      <td>I</td>\n",
       "      <td>N</td>\n",
       "      <td>T</td>\n",
       "      <td>P</td>\n",
       "      <td>0</td>\n",
       "      <td>1</td>\n",
       "      <td>0</td>\n",
       "      <td>0</td>\n",
       "      <td>100</td>\n",
       "    </tr>\n",
       "    <tr>\n",
       "      <th>3</th>\n",
       "      <td>INTJ</td>\n",
       "      <td>[\"'Dear INTP,   I enjoyed our conversation the...</td>\n",
       "      <td>0.9966</td>\n",
       "      <td>0.054</td>\n",
       "      <td>0.841</td>\n",
       "      <td>0.106</td>\n",
       "      <td>50</td>\n",
       "      <td>122</td>\n",
       "      <td>[\"'Dear INTP, I enjoyed our conversation the o...</td>\n",
       "      <td>0.9972</td>\n",
       "      <td>...</td>\n",
       "      <td>-0.0005</td>\n",
       "      <td>I</td>\n",
       "      <td>N</td>\n",
       "      <td>T</td>\n",
       "      <td>J</td>\n",
       "      <td>0</td>\n",
       "      <td>1</td>\n",
       "      <td>0</td>\n",
       "      <td>1</td>\n",
       "      <td>101</td>\n",
       "    </tr>\n",
       "    <tr>\n",
       "      <th>4</th>\n",
       "      <td>ENTJ</td>\n",
       "      <td>[\"'You're fired.\", \"That's another silly misco...</td>\n",
       "      <td>0.9725</td>\n",
       "      <td>0.114</td>\n",
       "      <td>0.748</td>\n",
       "      <td>0.138</td>\n",
       "      <td>50</td>\n",
       "      <td>119</td>\n",
       "      <td>[\"'You're fired.\", \"That's another silly misco...</td>\n",
       "      <td>0.9420</td>\n",
       "      <td>...</td>\n",
       "      <td>0.0218</td>\n",
       "      <td>E</td>\n",
       "      <td>N</td>\n",
       "      <td>T</td>\n",
       "      <td>J</td>\n",
       "      <td>1</td>\n",
       "      <td>1</td>\n",
       "      <td>0</td>\n",
       "      <td>1</td>\n",
       "      <td>1101</td>\n",
       "    </tr>\n",
       "  </tbody>\n",
       "</table>\n",
       "<p>5 rows × 41 columns</p>\n",
       "</div>"
      ],
      "text/plain": [
       "   type                                              posts  comp_score  \\\n",
       "0  INFJ  [\"'http://www.youtube.com/watch?v=qsXHcwe3krw\"...      0.9877   \n",
       "1  ENTP  [\"'I'm finding the lack of me in these posts v...      0.9994   \n",
       "2  INTP  [\"'Good one  _____   https://www.youtube.com/w...      0.9985   \n",
       "3  INTJ  [\"'Dear INTP,   I enjoyed our conversation the...      0.9966   \n",
       "4  ENTJ  [\"'You're fired.\", \"That's another silly misco...      0.9725   \n",
       "\n",
       "   neg_score  neu_score  pos_score  post_count  avg_word_count  \\\n",
       "0      0.054      0.829      0.116          50              90   \n",
       "1      0.068      0.752      0.180          50             138   \n",
       "2      0.074      0.751      0.175          50             102   \n",
       "3      0.054      0.841      0.106          50             122   \n",
       "4      0.114      0.748      0.138          50             119   \n",
       "\n",
       "                                       posts_cleaned  cleaned_comp_score  ...  \\\n",
       "0  ['enfp and intj moments sportscenter not top t...              0.9839  ...   \n",
       "1  [\"'I'm finding the lack of me in these posts v...              0.9993  ...   \n",
       "2  [\"'Good one _____\", \"Of course, to which I say...              0.9985  ...   \n",
       "3  [\"'Dear INTP, I enjoyed our conversation the o...              0.9972  ...   \n",
       "4  [\"'You're fired.\", \"That's another silly misco...              0.9420  ...   \n",
       "\n",
       "   diff_comp_init-no_punct  E_I  N_S  F_T  J_P E_I_code  N_S_code  F_T_code  \\\n",
       "0                   0.0074    I    N    F    J        0         1         1   \n",
       "1                   0.0009    E    N    T    P        1         1         0   \n",
       "2                   0.0009    I    N    T    P        0         1         0   \n",
       "3                  -0.0005    I    N    T    J        0         1         0   \n",
       "4                   0.0218    E    N    T    J        1         1         0   \n",
       "\n",
       "  J_P_code  type_code  \n",
       "0        1        111  \n",
       "1        0       1100  \n",
       "2        0        100  \n",
       "3        1        101  \n",
       "4        1       1101  \n",
       "\n",
       "[5 rows x 41 columns]"
      ]
     },
     "execution_count": 4,
     "metadata": {},
     "output_type": "execute_result"
    }
   ],
   "source": [
    "data.head()"
   ]
  },
  {
   "cell_type": "code",
   "execution_count": 5,
   "metadata": {},
   "outputs": [],
   "source": [
    "X = data.posts_no_digits"
   ]
  },
  {
   "cell_type": "code",
   "execution_count": 6,
   "metadata": {},
   "outputs": [],
   "source": [
    "y = data.F_T_code"
   ]
  },
  {
   "cell_type": "code",
   "execution_count": 8,
   "metadata": {},
   "outputs": [],
   "source": [
    "X_train, X_test, y_train, y_test = train_test_split(X, y, test_size=.2, stratify = y)"
   ]
  },
  {
   "cell_type": "code",
   "execution_count": 10,
   "metadata": {},
   "outputs": [],
   "source": [
    "tokenizer = Tokenizer(750)\n",
    "\n",
    "tokenizer.fit_on_texts(X_train)\n",
    "\n",
    "x_train = tokenizer.texts_to_sequences(X_train)\n",
    "x_test = tokenizer.texts_to_sequences(X_test)\n",
    "\n",
    "x_train = pad_sequences(x_train)\n",
    "x_test = pad_sequences(x_test)"
   ]
  },
  {
   "cell_type": "markdown",
   "metadata": {},
   "source": [
    "<br>\n",
    "\n",
    "***\n",
    "***\n",
    "***\n",
    "\n",
    "<br>"
   ]
  },
  {
   "cell_type": "code",
   "execution_count": 11,
   "metadata": {},
   "outputs": [
    {
     "name": "stdout",
     "output_type": "stream",
     "text": [
      "Epoch 1/25\n",
      "217/217 [==============================] - 902s 4s/step - loss: 0.6847 - accuracy: 0.5558 - val_loss: 0.6655 - val_accuracy: 0.6081\n",
      "Epoch 2/25\n",
      "217/217 [==============================] - 817s 4s/step - loss: 0.6533 - accuracy: 0.6246 - val_loss: 0.6916 - val_accuracy: 0.5239\n",
      "Epoch 3/25\n",
      "217/217 [==============================] - 887s 4s/step - loss: 0.6648 - accuracy: 0.5893 - val_loss: 0.6232 - val_accuracy: 0.6836\n",
      "Epoch 4/25\n",
      "217/217 [==============================] - 961s 4s/step - loss: 0.6649 - accuracy: 0.5659 - val_loss: 0.6884 - val_accuracy: 0.5412\n",
      "Epoch 5/25\n",
      "217/217 [==============================] - 1034s 5s/step - loss: 0.6578 - accuracy: 0.6052 - val_loss: 0.6843 - val_accuracy: 0.5585\n",
      "Epoch 6/25\n",
      "217/217 [==============================] - 1127s 5s/step - loss: 0.6592 - accuracy: 0.6063 - val_loss: 0.6891 - val_accuracy: 0.5412\n",
      "Epoch 7/25\n",
      "217/217 [==============================] - 1104s 5s/step - loss: 0.6583 - accuracy: 0.6066 - val_loss: 0.6241 - val_accuracy: 0.6738\n",
      "Epoch 8/25\n",
      "217/217 [==============================] - 1052s 5s/step - loss: 0.6563 - accuracy: 0.5914 - val_loss: 0.6860 - val_accuracy: 0.5262\n"
     ]
    }
   ],
   "source": [
    "model_5 = Sequential()\n",
    "model_5.add(Embedding(input_dim = tokenizer.num_words, output_dim = 64))\n",
    "model_5.add(LSTM(64, return_sequences = True, dropout = 0.2, recurrent_dropout = 0.2))\n",
    "model_5.add(LSTM(32, dropout = 0.2, recurrent_dropout = 0.2))\n",
    "model_5.add(Dense(200, activation = 'relu'))\n",
    "model_5.add(Dense(1, activation = 'sigmoid'))\n",
    "\n",
    "model_5.compile(loss = 'binary_crossentropy', metrics = ['accuracy'], optimizer = 'adam')\n",
    "\n",
    "history_5 = model_5.fit(x_train, y_train, validation_data=(x_test, y_test), epochs = 25, verbose=1, callbacks = EarlyStopping(monitor='val_accuracy', patience=5))"
   ]
  },
  {
   "cell_type": "code",
   "execution_count": 12,
   "metadata": {},
   "outputs": [
    {
     "data": {
      "text/plain": [
       "Text(0.5, 1.0, 'Results')"
      ]
     },
     "execution_count": 12,
     "metadata": {},
     "output_type": "execute_result"
    },
    {
     "data": {
      "image/png": "[encoded data removed]",
      "text/plain": [
       "<Figure size 432x288 with 1 Axes>"
      ]
     },
     "metadata": {
      "needs_background": "light"
     },
     "output_type": "display_data"
    }
   ],
   "source": [
    "plt.plot(history_5.history['val_accuracy'], label='Val Accuracy')\n",
    "plt.plot(history_5.history['accuracy'], label='Train Accuracy')\n",
    "plt.legend()\n",
    "plt.xlabel('Epoch')\n",
    "plt.ylabel('Accuracy')\n",
    "plt.title('Results')"
   ]
  },
  {
   "cell_type": "markdown",
   "metadata": {},
   "source": [
    "<br>\n",
    "\n",
    "***\n",
    "***\n",
    "***\n",
    "\n",
    "<br>"
   ]
  },
  {
   "cell_type": "code",
   "execution_count": 13,
   "metadata": {},
   "outputs": [
    {
     "name": "stdout",
     "output_type": "stream",
     "text": [
      "Epoch 1/25\n",
      "217/217 [==============================] - 75s 344ms/step - loss: 0.6707 - accuracy: 0.5680 - val_loss: 0.6537 - val_accuracy: 0.5974\n",
      "Epoch 2/25\n",
      "217/217 [==============================] - 72s 333ms/step - loss: 0.6499 - accuracy: 0.5993 - val_loss: 0.6517 - val_accuracy: 0.5990\n",
      "Epoch 3/25\n",
      "217/217 [==============================] - 74s 343ms/step - loss: 0.6487 - accuracy: 0.6002 - val_loss: 0.6515 - val_accuracy: 0.5989\n",
      "Epoch 4/25\n",
      "217/217 [==============================] - 80s 368ms/step - loss: 0.6449 - accuracy: 0.6035 - val_loss: 0.6519 - val_accuracy: 0.5965\n",
      "Epoch 5/25\n",
      "217/217 [==============================] - 75s 344ms/step - loss: 0.6432 - accuracy: 0.6052 - val_loss: 0.6494 - val_accuracy: 0.5994\n",
      "Epoch 6/25\n",
      "217/217 [==============================] - 74s 341ms/step - loss: 0.6412 - accuracy: 0.6066 - val_loss: 0.6521 - val_accuracy: 0.5968\n",
      "Epoch 7/25\n",
      "217/217 [==============================] - 73s 337ms/step - loss: 0.6373 - accuracy: 0.6087 - val_loss: 0.6527 - val_accuracy: 0.5988\n",
      "Epoch 8/25\n",
      "217/217 [==============================] - 72s 334ms/step - loss: 0.6346 - accuracy: 0.6134 - val_loss: 0.6534 - val_accuracy: 0.5945\n",
      "Epoch 9/25\n",
      "217/217 [==============================] - 94s 432ms/step - loss: 0.6293 - accuracy: 0.6188 - val_loss: 0.6529 - val_accuracy: 0.5967\n",
      "Epoch 10/25\n",
      "217/217 [==============================] - 71s 325ms/step - loss: 0.6250 - accuracy: 0.6225 - val_loss: 0.6590 - val_accuracy: 0.5936\n"
     ]
    }
   ],
   "source": [
    "model_6 = Sequential()\n",
    "model_6.add(Embedding(input_dim = tokenizer.num_words, output_dim = 64))\n",
    "model_6.add(Conv1D(64, 10, activation = 'relu'))\n",
    "model_6.add(MaxPooling1D(5))\n",
    "model_6.add(Conv1D(32, 7, activation = 'relu'))\n",
    "model_6.add(Dense(1, activation = 'sigmoid'))\n",
    "\n",
    "model_6.compile(loss = 'binary_crossentropy', metrics = ['accuracy'], optimizer = 'adam')\n",
    "\n",
    "history_6 = model_6.fit(x_train, y_train, validation_data=(x_test, y_test), epochs = 25, verbose=1, callbacks = EarlyStopping(monitor='val_accuracy', patience=5))"
   ]
  },
  {
   "cell_type": "code",
   "execution_count": 14,
   "metadata": {},
   "outputs": [
    {
     "data": {
      "text/plain": [
       "Text(0.5, 1.0, 'Results')"
      ]
     },
     "execution_count": 14,
     "metadata": {},
     "output_type": "execute_result"
    },
    {
     "data": {
      "image/png": "[encoded data removed]",
      "text/plain": [
       "<Figure size 432x288 with 1 Axes>"
      ]
     },
     "metadata": {
      "needs_background": "light"
     },
     "output_type": "display_data"
    }
   ],
   "source": [
    "plt.plot(history_6.history['val_accuracy'], label='Val Accuracy')\n",
    "plt.plot(history_6.history['accuracy'], label='Train Accuracy')\n",
    "plt.legend()\n",
    "plt.xlabel('Epoch')\n",
    "plt.ylabel('Accuracy')\n",
    "plt.title('Results')"
   ]
  },
  {
   "cell_type": "markdown",
   "metadata": {},
   "source": [
    "<br>\n",
    "\n",
    "***\n",
    "***\n",
    "***\n",
    "\n",
    "<br>"
   ]
  },
  {
   "cell_type": "code",
   "execution_count": 15,
   "metadata": {},
   "outputs": [
    {
     "name": "stdout",
     "output_type": "stream",
     "text": [
      "Epoch 1/25\n",
      "217/217 [==============================] - 73s 335ms/step - loss: 0.6704 - accuracy: 0.5662 - val_loss: 0.6551 - val_accuracy: 0.5956\n",
      "Epoch 2/25\n",
      "217/217 [==============================] - 71s 326ms/step - loss: 0.6493 - accuracy: 0.6003 - val_loss: 0.6542 - val_accuracy: 0.5949\n",
      "Epoch 3/25\n",
      "217/217 [==============================] - 79s 365ms/step - loss: 0.6447 - accuracy: 0.6050 - val_loss: 0.6517 - val_accuracy: 0.5987\n",
      "Epoch 4/25\n",
      "217/217 [==============================] - 69s 320ms/step - loss: 0.6418 - accuracy: 0.6072 - val_loss: 0.6503 - val_accuracy: 0.6004\n",
      "Epoch 5/25\n",
      "217/217 [==============================] - 65s 300ms/step - loss: 0.6385 - accuracy: 0.6104 - val_loss: 0.6460 - val_accuracy: 0.6038\n",
      "Epoch 6/25\n",
      "217/217 [==============================] - 66s 303ms/step - loss: 0.6357 - accuracy: 0.6127 - val_loss: 0.6498 - val_accuracy: 0.6023\n",
      "Epoch 7/25\n",
      "217/217 [==============================] - 47s 216ms/step - loss: 0.6317 - accuracy: 0.6160 - val_loss: 0.6497 - val_accuracy: 0.6035\n",
      "Epoch 8/25\n",
      "217/217 [==============================] - 54s 248ms/step - loss: 0.6282 - accuracy: 0.6198 - val_loss: 0.6516 - val_accuracy: 0.5996\n",
      "Epoch 9/25\n",
      "217/217 [==============================] - 47s 218ms/step - loss: 0.6245 - accuracy: 0.6236 - val_loss: 0.6556 - val_accuracy: 0.5997\n",
      "Epoch 10/25\n",
      "217/217 [==============================] - 47s 217ms/step - loss: 0.6174 - accuracy: 0.6289 - val_loss: 0.6550 - val_accuracy: 0.5987\n"
     ]
    }
   ],
   "source": [
    "model_7 = Sequential()\n",
    "model_7.add(Embedding(input_dim = tokenizer.num_words, output_dim = 64))\n",
    "model_7.add(Conv1D(64, 10, activation = 'relu'))\n",
    "model_7.add(MaxPooling1D(5))\n",
    "model_7.add(Conv1D(32, 7, activation = 'relu'))\n",
    "model_7.add(MaxPooling1D(2))\n",
    "model_7.add(Dense(1, activation = 'sigmoid'))\n",
    "\n",
    "model_7.compile(loss = 'binary_crossentropy', metrics = ['accuracy'], optimizer = 'adam')\n",
    "\n",
    "history_7 = model_7.fit(x_train, y_train, validation_data=(x_test, y_test), epochs = 25, verbose=1, callbacks = EarlyStopping(monitor='val_accuracy', patience=5))"
   ]
  },
  {
   "cell_type": "code",
   "execution_count": 16,
   "metadata": {},
   "outputs": [
    {
     "data": {
      "text/plain": [
       "Text(0.5, 1.0, 'Results')"
      ]
     },
     "execution_count": 16,
     "metadata": {},
     "output_type": "execute_result"
    },
    {
     "data": {
      "image/png": "[encoded data removed]",
      "text/plain": [
       "<Figure size 432x288 with 1 Axes>"
      ]
     },
     "metadata": {
      "needs_background": "light"
     },
     "output_type": "display_data"
    }
   ],
   "source": [
    "plt.plot(history_7.history['val_accuracy'], label='Val Accuracy')\n",
    "plt.plot(history_7.history['accuracy'], label='Train Accuracy')\n",
    "plt.legend()\n",
    "plt.xlabel('Epoch')\n",
    "plt.ylabel('Accuracy')\n",
    "plt.title('Results')"
   ]
  }
 ],
 "metadata": {
  "kernelspec": {
   "display_name": "Python 3",
   "language": "python",
   "name": "python3"
  },
  "language_info": {
   "codemirror_mode": {
    "name": "ipython",
    "version": 3
   },
   "file_extension": ".py",
   "mimetype": "text/x-python",
   "name": "python",
   "nbconvert_exporter": "python",
   "pygments_lexer": "ipython3",
   "version": "3.8.5"
  }
 },
 "nbformat": 4,
 "nbformat_minor": 4
}
