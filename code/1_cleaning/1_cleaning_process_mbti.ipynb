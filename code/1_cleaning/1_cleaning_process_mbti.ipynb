{
 "cells": [
  {
   "cell_type": "markdown",
   "metadata": {},
   "source": [
    "# Clean Original MBTI Data"
   ]
  },
  {
   "cell_type": "code",
   "execution_count": 1,
   "metadata": {
    "colab": {
     "base_uri": "https://localhost:8080/"
    },
    "id": "EOTFxILpwdzd",
    "outputId": "73cc32df-f816-4840-e370-750234c4439a"
   },
   "outputs": [
    {
     "name": "stderr",
     "output_type": "stream",
     "text": [
      "[nltk_data] Downloading package punkt to\n",
      "[nltk_data]     /Users/rebeccawright/nltk_data...\n",
      "[nltk_data]   Package punkt is already up-to-date!\n",
      "[nltk_data] Downloading package stopwords to\n",
      "[nltk_data]     /Users/rebeccawright/nltk_data...\n",
      "[nltk_data]   Package stopwords is already up-to-date!\n"
     ]
    },
    {
     "data": {
      "text/plain": [
       "True"
      ]
     },
     "execution_count": 1,
     "metadata": {},
     "output_type": "execute_result"
    }
   ],
   "source": [
    "import pandas as pd\n",
    "import numpy as np\n",
    "import re\n",
    "import nltk\n",
    "from nltk.tokenize import RegexpTokenizer, word_tokenize\n",
    "nltk.download('punkt')\n",
    "nltk.download('stopwords')"
   ]
  },
  {
   "cell_type": "markdown",
   "metadata": {},
   "source": [
    "<br><Br>\n",
    "### Importing the data"
   ]
  },
  {
   "cell_type": "code",
   "execution_count": 97,
   "metadata": {
    "id": "PU_vaMDLx3iK"
   },
   "outputs": [],
   "source": [
    "data = pd.read_csv('../../data/original/mbti_1.csv')"
   ]
  },
  {
   "cell_type": "code",
   "execution_count": 98,
   "metadata": {
    "colab": {
     "base_uri": "https://localhost:8080/"
    },
    "id": "mWE9k5cmyW8Z",
    "outputId": "039e27a4-c4a8-4824-bb10-6d684268effe"
   },
   "outputs": [
    {
     "name": "stdout",
     "output_type": "stream",
     "text": [
      "<class 'pandas.core.frame.DataFrame'>\n",
      "RangeIndex: 8675 entries, 0 to 8674\n",
      "Data columns (total 2 columns):\n",
      " #   Column  Non-Null Count  Dtype \n",
      "---  ------  --------------  ----- \n",
      " 0   type    8675 non-null   object\n",
      " 1   posts   8675 non-null   object\n",
      "dtypes: object(2)\n",
      "memory usage: 135.7+ KB\n"
     ]
    }
   ],
   "source": [
    "data.info()"
   ]
  },
  {
   "cell_type": "markdown",
   "metadata": {},
   "source": [
    "<br><br>\n",
    "### Setting up the DataFrame"
   ]
  },
  {
   "cell_type": "code",
   "execution_count": 99,
   "metadata": {},
   "outputs": [],
   "source": [
    "# add empty columns for trait pairs\n",
    "data = data.reindex(columns = data.columns.tolist() + ['E_I','N_S','F_T','J_P'])"
   ]
  },
  {
   "cell_type": "code",
   "execution_count": 100,
   "metadata": {},
   "outputs": [],
   "source": [
    "# split MBTI into trait pair column values\n",
    "for i in range(data.shape[0]):\n",
    "    data.loc[i,'E_I'] = data.iloc[i,0][0]\n",
    "    data.loc[i,'N_S'] = data.iloc[i,0][1]\n",
    "    data.loc[i,'F_T'] = data.iloc[i,0][2]\n",
    "    data.loc[i,'J_P'] = data.iloc[i,0][3]"
   ]
  },
  {
   "cell_type": "code",
   "execution_count": 101,
   "metadata": {},
   "outputs": [],
   "source": [
    "# create dictionary of trait pair binary encoding values\n",
    "mbti_binary_values = {'E': 1, 'I': 0, 'N': 1, 'S': 0, 'F': 1, 'T': 0, 'J': 1, 'P': 0}"
   ]
  },
  {
   "cell_type": "code",
   "execution_count": 102,
   "metadata": {},
   "outputs": [],
   "source": [
    "# create columns of trait pairs as binary encoded values\n",
    "for col in data.columns[-4:]:\n",
    "    data[f'{col}_code'] = data[col].map(mbti_binary_values)"
   ]
  },
  {
   "cell_type": "code",
   "execution_count": 103,
   "metadata": {},
   "outputs": [],
   "source": [
    "# create column of type as binary code\n",
    "data['type_code'] = data.iloc[:,-4:].apply(lambda x: ''.join(x.values.astype(str)), axis=1)  "
   ]
  },
  {
   "cell_type": "markdown",
   "metadata": {},
   "source": [
    "<br><br>\n",
    "<div class=\"alert alert-block alert-warning\">\n",
    "<b>Ordinal Encoding Deprecated</b> from mbti_v1</div>"
   ]
  },
  {
   "cell_type": "markdown",
   "metadata": {},
   "source": [
    "### Ordinal Encoding of mbti_type column"
   ]
  },
  {
   "cell_type": "markdown",
   "metadata": {
    "id": "yOgWCJbFKzCg"
   },
   "source": [
    "###### **Ordinal Encoding Values**: INFP:9 ||| INFJ:8 ||| INTP:11 ||| INTJ:10 ||| ENTP:3 ||| ENFP:1 ||| ISTP:15 ||| ISFP:13 ||| ENTJ:2 ||| ISTJ:14 ||| ENFJ:0 ||| ISFJ:12 ||| ESTP:7 ||| ESFP:7 ||| ESFJ:4 ||| ESTJ:6"
   ]
  },
  {
   "cell_type": "raw",
   "metadata": {
    "id": "yHNG6YxeGUdg"
   },
   "source": [
    "from sklearn.preprocessing import OrdinalEncoder\n",
    "\n",
    "data['type'] = data['type'].astype('category')\n",
    "data['type'] = OrdinalEncoder().fit_transform(data[['type']])\n",
    "data['type'] = data['type'].astype(int)"
   ]
  },
  {
   "cell_type": "markdown",
   "metadata": {},
   "source": [
    "<br><br>\n",
    "### Applying Preprocessor"
   ]
  },
  {
   "cell_type": "code",
   "execution_count": 104,
   "metadata": {
    "id": "aihh6CpHKk-V"
   },
   "outputs": [],
   "source": [
    "def preprocessor(text):\n",
    "    text = text.lower()     # cast to lowercase\n",
    "    text = text.replace('|||', ' ')     # replace ||| with \" \"\n",
    "    text = re.sub(r'(www|http)\\S+', \"\", text)     # remove urls and websites\n",
    "    text = re.sub(r'\\d+w+\\d+\\W', \"\", text)     # remove 1w2 tritype - will capture \"1w2\", \"1w2 \", \"1w2=\", \"1w2-\"\n",
    "    regex_tokenizer = RegexpTokenizer(r'\\w+')\n",
    "    text = regex_tokenizer.tokenize(text)     # remove special characters\n",
    "    return \" \".join(text)"
   ]
  },
  {
   "cell_type": "code",
   "execution_count": 105,
   "metadata": {
    "id": "Ajml-OJMLGIW"
   },
   "outputs": [],
   "source": [
    "data['posts'] = data['posts'].apply(lambda x : preprocessor(x)) "
   ]
  },
  {
   "cell_type": "markdown",
   "metadata": {},
   "source": [
    "<br><br>\n",
    "### Confirm No Empty Posts Generated By Preprocessor"
   ]
  },
  {
   "cell_type": "code",
   "execution_count": 107,
   "metadata": {
    "colab": {
     "base_uri": "https://localhost:8080/"
    },
    "id": "FpgLRQ1WslcK",
    "outputId": "05dff73b-67e9-4bec-a37c-c800346e57a6"
   },
   "outputs": [
    {
     "data": {
      "text/plain": [
       "9"
      ]
     },
     "execution_count": 107,
     "metadata": {},
     "output_type": "execute_result"
    }
   ],
   "source": [
    "# confirm no posts value was made empty during clean_post process\n",
    "shortest = 100\n",
    "for post in data['posts']:\n",
    "    if len(post) < shortest:\n",
    "        shortest = len(post)\n",
    "shortest"
   ]
  },
  {
   "cell_type": "markdown",
   "metadata": {},
   "source": [
    "<br><br>\n",
    "### Write To CSV"
   ]
  },
  {
   "cell_type": "code",
   "execution_count": 108,
   "metadata": {},
   "outputs": [],
   "source": [
    "data.to_csv('../../data/cleaned/mbti_v5.csv', index=False)"
   ]
  },
  {
   "cell_type": "markdown",
   "metadata": {},
   "source": [
    "<div class=\"alert alert-block alert-info\">\n",
    "<b>TO_CSV version tracking: mbti_v5</b><br>\n",
    "* preprocessing steps:<br>\n",
    "*** add re.sub(r'\\d+w+\\d+\\W', \"\", text)<br>\n",
    "[timestamp: 2/17-10:30p]\n",
    "</div>"
   ]
  },
  {
   "cell_type": "markdown",
   "metadata": {},
   "source": [
    "<div class=\"alert alert-block alert-info\">\n",
    "<b>TO_CSV version tracking: mbti_v4</b><br>\n",
    "* restructured Dataframe Columns: <br>\n",
    "*** type col is string (4 chars) <br>\n",
    "*** each trait pair has column with char value (E_I, N_S, etc) <br>\n",
    "*** each trait pair has trait_code column with binary value with first letter in pair as 1 (E=1, I=0, etc) <br>\n",
    "*** type_code column with four-digit binary encoded code representing MBTI type (ex: 1001, 1111, etc) <br>\n",
    "IMPORTANT NOTE : as a integer, leading zeros are dropped, so 0100 is the same as 100 and 0001 is the same as 1<br>\n",
    "* preprocessing steps: (identical to previous version)<br>\n",
    "[timestamp: 2/17-10:00p]\n",
    "</div>"
   ]
  },
  {
   "cell_type": "markdown",
   "metadata": {},
   "source": [
    "<div class=\"alert alert-block alert-info\">\n",
    "<b>TO_CSV version tracking: mbti_v3</b><br>\n",
    "* left 4 letter string mbti_type column <br>\n",
    "* reassigned values from binary back to string for columns for each personality trait pair<br>\n",
    "* preprocessing steps: (identical to previous version)<br>\n",
    "[timestamp: 2/17-11:30a]\n",
    "</div>"
   ]
  },
  {
   "cell_type": "markdown",
   "metadata": {},
   "source": [
    "<div class=\"alert alert-block alert-info\">\n",
    "<b>TO_CSV version tracking: mbti_v2</b><br>\n",
    "* left 4 letter string mbti_type column <br>\n",
    "* created binary encoded columns for each personality trait pair with first letter in pair as 1<br>\n",
    "*** E_I<br>\n",
    "*** N_S<br>\n",
    "*** F_T<br>\n",
    "*** J_P<br>\n",
    "* preprocessing steps: (identical to previous version)<br>\n",
    "[timestamp: 2/17-9:30a]\n",
    "</div>"
   ]
  },
  {
   "cell_type": "markdown",
   "metadata": {},
   "source": [
    "<div class=\"alert alert-block alert-info\">\n",
    "<b>TO_CSV version tracking: mbti_v1</b><br>\n",
    "* catgorically encoded MBTI_type column to numeric value 1-16 <br>\n",
    "* preprocessing steps:<br>\n",
    "*** text.lower()<br>\n",
    "*** text.replace('|||', ' ')<br>\n",
    "*** re.sub(r'(www|http)\\S+', \"\", text)<br>\n",
    "*** RegexpTokenizer(r'\\w+')<br>\n",
    "*** regex_tokenizer.tokenize(text)<br>\n",
    "[timestamp: 2/16-5:00p]<br><br>\n",
    "<b>UPDATED:</b> Dislike the categorical encoding method. [timestamp: 2/17-9:37p]\n",
    "</div>"
   ]
  }
 ],
 "metadata": {
  "accelerator": "TPU",
  "colab": {
   "collapsed_sections": [],
   "name": "MBTI_data.ipynb",
   "provenance": []
  },
  "kernelspec": {
   "display_name": "Python 3",
   "language": "python",
   "name": "python3"
  },
  "language_info": {
   "codemirror_mode": {
    "name": "ipython",
    "version": 3
   },
   "file_extension": ".py",
   "mimetype": "text/x-python",
   "name": "python",
   "nbconvert_exporter": "python",
   "pygments_lexer": "ipython3",
   "version": "3.8.5"
  }
 },
 "nbformat": 4,
 "nbformat_minor": 4
}
