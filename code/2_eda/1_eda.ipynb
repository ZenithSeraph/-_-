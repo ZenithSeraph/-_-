{
 "cells": [
  {
   "cell_type": "markdown",
   "metadata": {},
   "source": [
    "# EDA - 1"
   ]
  },
  {
   "cell_type": "code",
   "execution_count": 1,
   "metadata": {},
   "outputs": [],
   "source": [
    "import pandas as pd\n",
    "import matplotlib.pyplot as plt\n",
    "import numpy as np\n",
    "import seaborn as sns\n",
    "from sklearn.feature_extraction.text import TfidfVectorizer\n",
    "from sklearn.feature_selection import chi2\n",
    "from itertools import permutations"
   ]
  },
  {
   "cell_type": "code",
   "execution_count": 2,
   "metadata": {},
   "outputs": [],
   "source": [
    "import warnings\n",
    "warnings.filterwarnings('ignore')"
   ]
  },
  {
   "cell_type": "markdown",
   "metadata": {},
   "source": [
    "<br><br>\n",
    "### Import Data"
   ]
  },
  {
   "cell_type": "code",
   "execution_count": 3,
   "metadata": {},
   "outputs": [],
   "source": [
    "data = pd.read_csv('../../data/cleaned/mbti_v3.csv')"
   ]
  },
  {
   "cell_type": "code",
   "execution_count": 4,
   "metadata": {},
   "outputs": [
    {
     "data": {
      "text/html": [
       "<div>\n",
       "<style scoped>\n",
       "    .dataframe tbody tr th:only-of-type {\n",
       "        vertical-align: middle;\n",
       "    }\n",
       "\n",
       "    .dataframe tbody tr th {\n",
       "        vertical-align: top;\n",
       "    }\n",
       "\n",
       "    .dataframe thead th {\n",
       "        text-align: right;\n",
       "    }\n",
       "</style>\n",
       "<table border=\"1\" class=\"dataframe\">\n",
       "  <thead>\n",
       "    <tr style=\"text-align: right;\">\n",
       "      <th></th>\n",
       "      <th>type</th>\n",
       "      <th>posts</th>\n",
       "      <th>E_I</th>\n",
       "      <th>N_S</th>\n",
       "      <th>F_T</th>\n",
       "      <th>J_P</th>\n",
       "    </tr>\n",
       "  </thead>\n",
       "  <tbody>\n",
       "    <tr>\n",
       "      <th>0</th>\n",
       "      <td>INFJ</td>\n",
       "      <td>enfp and intj moments sportscenter not top ten...</td>\n",
       "      <td>I</td>\n",
       "      <td>N</td>\n",
       "      <td>F</td>\n",
       "      <td>J</td>\n",
       "    </tr>\n",
       "    <tr>\n",
       "      <th>1</th>\n",
       "      <td>ENTP</td>\n",
       "      <td>i m finding the lack of me in these posts very...</td>\n",
       "      <td>E</td>\n",
       "      <td>N</td>\n",
       "      <td>T</td>\n",
       "      <td>P</td>\n",
       "    </tr>\n",
       "  </tbody>\n",
       "</table>\n",
       "</div>"
      ],
      "text/plain": [
       "   type                                              posts E_I N_S F_T J_P\n",
       "0  INFJ  enfp and intj moments sportscenter not top ten...   I   N   F   J\n",
       "1  ENTP  i m finding the lack of me in these posts very...   E   N   T   P"
      ]
     },
     "execution_count": 4,
     "metadata": {},
     "output_type": "execute_result"
    }
   ],
   "source": [
    "data.head(2)"
   ]
  },
  {
   "cell_type": "markdown",
   "metadata": {},
   "source": [
    "<br><br>\n",
    "### Examine MBTI type distributions"
   ]
  },
  {
   "cell_type": "code",
   "execution_count": 5,
   "metadata": {},
   "outputs": [
    {
     "data": {
      "text/plain": [
       "INFP    1832\n",
       "INFJ    1470\n",
       "INTP    1304\n",
       "INTJ    1091\n",
       "ENTP     685\n",
       "ENFP     675\n",
       "ISTP     337\n",
       "ISFP     271\n",
       "ENTJ     231\n",
       "ISTJ     205\n",
       "ENFJ     190\n",
       "ISFJ     166\n",
       "ESTP      89\n",
       "ESFP      48\n",
       "ESFJ      42\n",
       "ESTJ      39\n",
       "Name: type, dtype: int64"
      ]
     },
     "execution_count": 5,
     "metadata": {},
     "output_type": "execute_result"
    }
   ],
   "source": [
    "data['type'].value_counts()"
   ]
  },
  {
   "cell_type": "code",
   "execution_count": 6,
   "metadata": {},
   "outputs": [
    {
     "data": {
      "text/plain": [
       "<AxesSubplot:xlabel='type', ylabel='count'>"
      ]
     },
     "execution_count": 6,
     "metadata": {},
     "output_type": "execute_result"
    },
    {
     "data": {
      "image/png": "[encoded data removed]",
      "text/plain": [
       "<Figure size 1080x576 with 1 Axes>"
      ]
     },
     "metadata": {
      "needs_background": "light"
     },
     "output_type": "display_data"
    }
   ],
   "source": [
    "plt.figure(figsize=(15,8))\n",
    "sns.countplot(data['type'].sort_values())"
   ]
  },
  {
   "cell_type": "code",
   "execution_count": 7,
   "metadata": {},
   "outputs": [
    {
     "data": {
      "text/plain": [
       "<AxesSubplot:xlabel='J_P', ylabel='count'>"
      ]
     },
     "execution_count": 7,
     "metadata": {},
     "output_type": "execute_result"
    },
    {
     "data": {
      "image/png": "[encoded data removed]",
      "text/plain": [
       "<Figure size 1080x576 with 4 Axes>"
      ]
     },
     "metadata": {
      "needs_background": "light"
     },
     "output_type": "display_data"
    }
   ],
   "source": [
    "f, axs = plt.subplots(2, 2, figsize=(15, 8))\n",
    "sns.countplot(data['E_I'], ax=axs[0][0])\n",
    "sns.countplot(data['N_S'], ax=axs[0][1])\n",
    "sns.countplot(data['F_T'], ax=axs[1][0])\n",
    "sns.countplot(data['J_P'], ax=axs[1][1])"
   ]
  },
  {
   "cell_type": "code",
   "execution_count": 10,
   "metadata": {},
   "outputs": [
    {
     "name": "stdout",
     "output_type": "stream",
     "text": [
      "E_I \n",
      "\n",
      "Counts: I    6676\n",
      "E    1999\n",
      "Name: E_I, dtype: int64 \n",
      "\n",
      "Percents: I    0.769568\n",
      "E    0.230432\n",
      "Name: E_I, dtype: float64 \n",
      "\n",
      "\n",
      "N_S \n",
      "\n",
      "Counts: N    7478\n",
      "S    1197\n",
      "Name: N_S, dtype: int64 \n",
      "\n",
      "Percents: N    0.862017\n",
      "S    0.137983\n",
      "Name: N_S, dtype: float64 \n",
      "\n",
      "\n",
      "F_T \n",
      "\n",
      "Counts: F    4694\n",
      "T    3981\n",
      "Name: F_T, dtype: int64 \n",
      "\n",
      "Percents: F    0.541095\n",
      "T    0.458905\n",
      "Name: F_T, dtype: float64 \n",
      "\n",
      "\n",
      "J_P \n",
      "\n",
      "Counts: P    5241\n",
      "J    3434\n",
      "Name: J_P, dtype: int64 \n",
      "\n",
      "Percents: P    0.60415\n",
      "J    0.39585\n",
      "Name: J_P, dtype: float64 \n",
      "\n",
      "\n"
     ]
    }
   ],
   "source": [
    "columns = ['E_I', 'N_S', 'F_T', 'J_P']\n",
    "\n",
    "for column in columns:\n",
    "    print(column, '\\n')\n",
    "    print(\"Counts:\", data[column].value_counts(), '\\n')\n",
    "    print(\"Percents:\", data[column].value_counts(normalize=True), '\\n\\n')"
   ]
  },
  {
   "cell_type": "code",
   "execution_count": 11,
   "metadata": {},
   "outputs": [
    {
     "data": {
      "text/plain": [
       "0.004495677233429395"
      ]
     },
     "execution_count": 11,
     "metadata": {},
     "output_type": "execute_result"
    }
   ],
   "source": [
    "39/data.shape[0]"
   ]
  },
  {
   "cell_type": "markdown",
   "metadata": {},
   "source": [
    "<div class=\"alert alert-block alert-danger\">\n",
    "<b>Unbalanced Data:</b> Large inbalance in data observed.  Decision needs to be made on how to handle.<br>\n",
    "[timestamp: 2/17-6:05p]<br>\n",
    "</div>"
   ]
  },
  {
   "cell_type": "markdown",
   "metadata": {},
   "source": [
    "<br><br>\n",
    "### Engineer Columns of Personality Traits as Binary Values"
   ]
  },
  {
   "cell_type": "code",
   "execution_count": 6,
   "metadata": {},
   "outputs": [],
   "source": [
    "# code to translate MBTI types into numeric code and add it to dataframe\n",
    "\n",
    "mbti_binary_values = {'E': 1, 'I': 0, 'N': 1, 'S': 0, 'F': 1, 'T': 0, 'J': 1, 'P': 0}\n",
    "\n",
    "for col in ['E_I','N_S','F_T','J_P']:\n",
    "    data[f'{col}_code'] = data[col].map(mbti_binary_values)\n",
    "\n",
    "data['type_code'] = data.iloc[:,-4:].apply(lambda x: ''.join(x.values.astype(str)), axis=1)"
   ]
  },
  {
   "cell_type": "code",
   "execution_count": 11,
   "metadata": {},
   "outputs": [],
   "source": [
    "# code to create type_code dictionary\n",
    "\n",
    "type_cols = data[['type','type_code']]\n",
    "type_dict_vals = set(type_cols.apply(lambda x: ':'.join(x.values.astype(str)), axis=1))\n",
    "type_code_dict = {value.split(':')[0]:value.split(':')[1] for value in type_dict_vals}"
   ]
  },
  {
   "cell_type": "code",
   "execution_count": 7,
   "metadata": {},
   "outputs": [],
   "source": [
    "# code to create type_code dictionary\n",
    "\n",
    "type_cols = data[['E_I','E_I_code']]\n",
    "type_dict_vals = set(type_cols.apply(lambda x: ':'.join(x.values.astype(str)), axis=1))\n",
    "type_code_dict = {value.split(':')[0]:value.split(':')[1] for value in type_dict_vals}"
   ]
  },
  {
   "cell_type": "code",
   "execution_count": 12,
   "metadata": {},
   "outputs": [
    {
     "data": {
      "text/plain": [
       "{'ENFJ': '1111',\n",
       " 'ENTP': '1100',\n",
       " 'INTJ': '0101',\n",
       " 'ISFJ': '0011',\n",
       " 'ENTJ': '1101',\n",
       " 'ISTJ': '0001',\n",
       " 'ENFP': '1110',\n",
       " 'INFJ': '0111',\n",
       " 'ESFJ': '1011',\n",
       " 'ESTJ': '1001',\n",
       " 'ESTP': '1000',\n",
       " 'ISTP': '0000',\n",
       " 'ESFP': '1010',\n",
       " 'INTP': '0100',\n",
       " 'ISFP': '0010',\n",
       " 'INFP': '0110'}"
      ]
     },
     "execution_count": 12,
     "metadata": {},
     "output_type": "execute_result"
    }
   ],
   "source": [
    "type_code_dict"
   ]
  },
  {
   "cell_type": "markdown",
   "metadata": {},
   "source": [
    "<br><br>\n",
    "### TFDIF Vectorizer Model: using *stop_words=\"english\"*"
   ]
  },
  {
   "cell_type": "code",
   "execution_count": 13,
   "metadata": {},
   "outputs": [],
   "source": [
    "#TFIDF Vectorizer\n",
    "tfidf = TfidfVectorizer(stop_words=\"english\", ngram_range=(1, 3), min_df=10)\n",
    "features = tfidf.fit_transform(data.posts).toarray()\n",
    "labels = data.type_code"
   ]
  },
  {
   "cell_type": "code",
   "execution_count": 16,
   "metadata": {},
   "outputs": [
    {
     "data": {
      "text/plain": [
       "(8675, 69016)"
      ]
     },
     "execution_count": 16,
     "metadata": {},
     "output_type": "execute_result"
    }
   ],
   "source": [
    "features.shape"
   ]
  },
  {
   "cell_type": "code",
   "execution_count": 17,
   "metadata": {},
   "outputs": [
    {
     "data": {
      "text/plain": [
       "0       0111\n",
       "1       1100\n",
       "2       0100\n",
       "3       0101\n",
       "4       1101\n",
       "        ... \n",
       "8670    0010\n",
       "8671    1110\n",
       "8672    0100\n",
       "8673    0110\n",
       "8674    0110\n",
       "Name: type_code, Length: 8675, dtype: object"
      ]
     },
     "execution_count": 17,
     "metadata": {},
     "output_type": "execute_result"
    }
   ],
   "source": [
    "labels"
   ]
  },
  {
   "cell_type": "raw",
   "metadata": {},
   "source": [
    "# sourced from: https://towardsdatascience.com/multi-class-text-classification-with-scikit-learn-12f1e60e0a9f\n",
    "\n",
    "for type, type_code in type_code_dict.items():\n",
    "    features_chi2 = chi2(features, labels == type_code)\n",
    "    print('FLAG:', features_chi2)\n",
    "    indices = np.argsort(features_chi2[0])\n",
    "    print('FLAG:', indices)\n",
    "    feature_names = np.array(tfidf.get_feature_names())[indices]\n",
    "    print('FLAG:', feature_names)\n",
    "    \n",
    "    unigrams = [v for v in feature_names if len(v.split(' ')) == 1]\n",
    "    bigrams = [v for v in feature_names if len(v.split(' ')) == 2]\n",
    "    trigrams = [v for v in feature_names if len(v.split(' ')) == 3]\n",
    "    print(\"# '{}':\".format(type))\n",
    "    print(\"  . Most correlated unigrams:\\n. {}\".format('\\n. '.join(unigrams[-10:])))\n",
    "    print(\"  . Most correlated bigrams:\\n. {}\".format('\\n. '.join(bigrams[-10:])))\n",
    "    print(\"  . Most correlated trigrams:\\n. {}\".format('\\n. '.join(trigrams[-10:])))"
   ]
  },
  {
   "cell_type": "code",
   "execution_count": null,
   "metadata": {},
   "outputs": [],
   "source": [
    "# sourced from: https://towardsdatascience.com/multi-class-text-classification-with-scikit-learn-12f1e60e0a9f\n",
    "\n",
    "for type, type_code in type_code_dict.items():\n",
    "    features_chi2 = chi2(features, labels == type_code)\n",
    "    indices = np.argsort(features_chi2[0])\n",
    "    feature_names = np.array(tfidf.get_feature_names())[indices]\n",
    "    unigrams = [v for v in feature_names if len(v.split(' ')) == 1]\n",
    "    bigrams = [v for v in feature_names if len(v.split(' ')) == 2]\n",
    "    trigrams = [v for v in feature_names if len(v.split(' ')) == 3]\n",
    "    print(\"# '{}':\".format(type))\n",
    "    print(\"  . Most correlated unigrams:\\n. {}\".format('\\n. '.join(unigrams[-10:])))\n",
    "    print(\"  . Most correlated bigrams:\\n. {}\".format('\\n. '.join(bigrams[-10:])))\n",
    "    print(\"  . Most correlated trigrams:\\n. {}\".format('\\n. '.join(trigrams[-10:])))"
   ]
  },
  {
   "cell_type": "markdown",
   "metadata": {},
   "source": [
    "<div class=\"alert alert-block alert-info\">\n",
    "<b>Further Actions:</b><br>\n",
    "* ~~Add MBTI terms and their plurals to the stopwords collection.~~<br>\n",
    "* ~~find out 2w1 is ~~<br>\n",
    "* decide how to handle emojis <br>\n",
    "* ~~figure out what is causing the \"ti\" \"fe\" \"ni\" occurences~~<br>\n",
    "[timestamp: 2/17-8:17p]<br><br>\n",
    "<b>UPDATED:</b> Completed items struck-through<br>\n",
    "[timestamp: 2/17-8:50p]\n",
    "</div>"
   ]
  },
  {
   "cell_type": "markdown",
   "metadata": {},
   "source": [
    "<div class=\"alert alert-block alert-info\">\n",
    "<b>Further Action:</b> ~~Consider adding secondary stopword remover into preprocessing staged prior to stripping special characters.~~ [timestamp: 2/17-8:10p]<br><br>\n",
    "<b>UPDATED:</b> Prefer performance of TFIDF without the use of english stop words collection entirely. [timestamp: 2/17-8:46p]\n",
    "</div>"
   ]
  },
  {
   "cell_type": "markdown",
   "metadata": {},
   "source": [
    "<br><br>\n",
    "### Create Custom Stopword Collection"
   ]
  },
  {
   "cell_type": "code",
   "execution_count": 159,
   "metadata": {},
   "outputs": [
    {
     "name": "stdout",
     "output_type": "stream",
     "text": [
      "['i', 'me', 'my', 'myself', 'we', 'our', 'ours', 'ourselves', 'you', \"you're\", \"you've\", \"you'll\", \"you'd\", 'your', 'yours', 'yourself', 'yourselves', 'he', 'him', 'his', 'himself', 'she', \"she's\", 'her', 'hers', 'herself', 'it', \"it's\", 'its', 'itself', 'they', 'them', 'their', 'theirs', 'themselves', 'what', 'which', 'who', 'whom', 'this', 'that', \"that'll\", 'these', 'those', 'am', 'is', 'are', 'was', 'were', 'be', 'been', 'being', 'have', 'has', 'had', 'having', 'do', 'does', 'did', 'doing', 'a', 'an', 'the', 'and', 'but', 'if', 'or', 'because', 'as', 'until', 'while', 'of', 'at', 'by', 'for', 'with', 'about', 'against', 'between', 'into', 'through', 'during', 'before', 'after', 'above', 'below', 'to', 'from', 'up', 'down', 'in', 'out', 'on', 'off', 'over', 'under', 'again', 'further', 'then', 'once', 'here', 'there', 'when', 'where', 'why', 'how', 'all', 'any', 'both', 'each', 'few', 'more', 'most', 'other', 'some', 'such', 'no', 'nor', 'not', 'only', 'own', 'same', 'so', 'than', 'too', 'very', 's', 't', 'can', 'will', 'just', 'don', \"don't\", 'should', \"should've\", 'now', 'd', 'll', 'm', 'o', 're', 've', 'y', 'ain', 'aren', \"aren't\", 'couldn', \"couldn't\", 'didn', \"didn't\", 'doesn', \"doesn't\", 'hadn', \"hadn't\", 'hasn', \"hasn't\", 'haven', \"haven't\", 'isn', \"isn't\", 'ma', 'mightn', \"mightn't\", 'mustn', \"mustn't\", 'needn', \"needn't\", 'shan', \"shan't\", 'shouldn', \"shouldn't\", 'wasn', \"wasn't\", 'weren', \"weren't\", 'won', \"won't\", 'wouldn', \"wouldn't\"]\n"
     ]
    }
   ],
   "source": [
    "import nltk\n",
    "from nltk.corpus import stopwords\n",
    "print(stopwords.words('english'))"
   ]
  },
  {
   "cell_type": "code",
   "execution_count": 148,
   "metadata": {
    "collapsed": true,
    "jupyter": {
     "outputs_hidden": true
    }
   },
   "outputs": [
    {
     "data": {
      "text/plain": [
       "['estj',\n",
       " 'infj',\n",
       " 'esfp',\n",
       " 'enfp',\n",
       " 'istp',\n",
       " 'isfj',\n",
       " 'infp',\n",
       " 'entp',\n",
       " 'intp',\n",
       " 'intj',\n",
       " 'istj',\n",
       " 'isfp',\n",
       " 'enfj',\n",
       " 'entj',\n",
       " 'esfj',\n",
       " 'estp',\n",
       " 'estjs',\n",
       " 'infjs',\n",
       " 'esfps',\n",
       " 'enfps',\n",
       " 'istps',\n",
       " 'isfjs',\n",
       " 'infps',\n",
       " 'entps',\n",
       " 'intps',\n",
       " 'intjs',\n",
       " 'istjs',\n",
       " 'isfps',\n",
       " 'enfjs',\n",
       " 'entjs',\n",
       " 'esfjs',\n",
       " 'estps']"
      ]
     },
     "execution_count": 148,
     "metadata": {},
     "output_type": "execute_result"
    }
   ],
   "source": [
    "# create list of mbti types and their plurals to add to stop word collection\n",
    "\n",
    "mbti_types = [key.lower() for key in type_code_dict.keys()]\n",
    "mbti_types += [(each+'s') for each in mbti_types]\n",
    "mbti_types"
   ]
  },
  {
   "cell_type": "markdown",
   "metadata": {},
   "source": [
    "<br><br>\n",
    "### TFDIF Vectorizer Model: using *stop_words=mbti_types*"
   ]
  },
  {
   "cell_type": "code",
   "execution_count": 150,
   "metadata": {
    "collapsed": true,
    "jupyter": {
     "outputs_hidden": true
    }
   },
   "outputs": [
    {
     "name": "stdout",
     "output_type": "stream",
     "text": [
      "# 'ESTJ':\n",
      "  . Most correlated unigrams:\n",
      ". pifanjr\n",
      ". cos\n",
      ". wickedqueen\n",
      ". abt\n",
      ". sega\n",
      ". yr\n",
      ". wen\n",
      ". thanx\n",
      ". eagle\n",
      ". posh\n",
      "  . Most correlated bigrams:\n",
      ". clean the\n",
      ". and ill\n",
      ". we trust\n",
      ". version in\n",
      ". deeply hurt\n",
      ". hi this\n",
      ". ill try\n",
      ". the curb\n",
      ". ll laugh\n",
      ". aggressive behavior\n",
      "  . Most correlated trigrams:\n",
      ". how would know\n",
      ". kiss marry bed\n",
      ". behind your back\n",
      ". do you generally\n",
      ". these people who\n",
      ". my other half\n",
      ". need to control\n",
      ". to be concerned\n",
      ". hi this is\n",
      ". passive aggressive behavior\n",
      "# 'INFJ':\n",
      "  . Most correlated unigrams:\n",
      ". marv\n",
      ". aba\n",
      ". aizar\n",
      ". reisiger\n",
      ". infjness\n",
      ". warweasel\n",
      ". inforjoking\n",
      ". dear\n",
      ". doorslam\n",
      ". ni\n",
      "  . Most correlated bigrams:\n",
      ". the ni\n",
      ". apdenoatis 1w2\n",
      ". ni fe\n",
      ". 1w2 2w1\n",
      ". 2w1 5w6\n",
      ". dear self\n",
      ". door slam\n",
      ". ti loop\n",
      ". vivid melody\n",
      ". ni ti\n",
      "  . Most correlated trigrams:\n",
      ". 3w4 7w6 sx\n",
      ". am the girl\n",
      ". 1w9 5w6 2w1\n",
      ". 5w6 2w1 so\n",
      ". sx so probably\n",
      ". 2w1 5w6 sx\n",
      ". apdenoatis 1w2 2w1\n",
      ". 5w6 sx so\n",
      ". 1w2 2w1 5w6\n",
      ". ni ti loop\n",
      "# 'ESFP':\n",
      "  . Most correlated unigrams:\n",
      ". shelby\n",
      ". tmlt\n",
      ". whip\n",
      ". kink\n",
      ". stark\n",
      ". flirtation\n",
      ". sims\n",
      ". heather\n",
      ". gt\n",
      ". auburn\n",
      "  . Most correlated bigrams:\n",
      ". and perceptive\n",
      ". the verdict\n",
      ". ultimate truth\n",
      ". tmlt hate\n",
      ". won but\n",
      ". sun smiley\n",
      ". tmlt have\n",
      ". how likely\n",
      ". sound great\n",
      ". my gt\n",
      "  . Most correlated trigrams:\n",
      ". asked her if\n",
      ". prefer to live\n",
      ". so smart and\n",
      ". bit better than\n",
      ". in spam world\n",
      ". however find that\n",
      ". dont think so\n",
      ". with the the\n",
      ". super excited to\n",
      ". from my gt\n",
      "# 'ENFP':\n",
      "  . Most correlated unigrams:\n",
      ". danse\n",
      ". finaille\n",
      ". 4w3\n",
      ". tridentus\n",
      ". viva\n",
      ". musicalmeggie\n",
      ". musicbird\n",
      ". alysaria\n",
      ". 7w6\n",
      ". xd\n",
      "  . Most correlated bigrams:\n",
      ". sx alysaria\n",
      ". dreams 9w1\n",
      ". sx ace\n",
      ". musicalmeggie 2w1\n",
      ". 7w8 1w2\n",
      ". so musicbird\n",
      ". musicbird 7w6\n",
      ". ace face\n",
      ". hug hug\n",
      ". dear anonymous\n",
      "  . Most correlated trigrams:\n",
      ". sx ace face\n",
      ". dreams 9w1 7w6\n",
      ". 2w1 5w4 9w1\n",
      ". musicalmeggie 2w1 5w4\n",
      ". sx so musicbird\n",
      ". musicbird 7w6 9w8\n",
      ". so musicbird 7w6\n",
      ". king of dreams\n",
      ". 2w1 so sx\n",
      ". an and wish\n",
      "# 'ISTP':\n",
      "  . Most correlated unigrams:\n",
      ". nubb\n",
      ". biking\n",
      ". undecided\n",
      ". hoe\n",
      ". jb\n",
      ". khys\n",
      ". murdock\n",
      ". glyphs\n",
      ". snowboarding\n",
      ". mechanic\n",
      "  . Most correlated bigrams:\n",
      ". things apart\n",
      ". and wont\n",
      ". be get\n",
      ". adrenaline junkie\n",
      ". but fuck\n",
      ". extreme sports\n",
      ". mountain biking\n",
      ". therefore think\n",
      ". ti ni\n",
      ". think therefore\n",
      "  . Most correlated trigrams:\n",
      ". se ni fe\n",
      ". ll get you\n",
      ". dunno why but\n",
      ". of you said\n",
      ". ti se ni\n",
      ". fun on the\n",
      ". then again if\n",
      ". just figured out\n",
      ". the ti ni\n",
      ". ti ni loop\n",
      "# 'ISFJ':\n",
      "  . Most correlated unigrams:\n",
      ". shale\n",
      ". eie\n",
      ". teddy564339\n",
      ". si\n",
      ". bungee\n",
      ". weasley\n",
      ". lobby\n",
      ". sweetish\n",
      ". teddy\n",
      ". mi\n",
      "  . Most correlated bigrams:\n",
      ". consider getting\n",
      ". soul you\n",
      ". dominant si\n",
      ". consider going\n",
      ". forum welcome\n",
      ". ever consider\n",
      ". bungee jumping\n",
      ". inferior ne\n",
      ". going bungee\n",
      ". jumping skydiving\n",
      "  . Most correlated trigrams:\n",
      ". would you ever\n",
      ". to be needed\n",
      ". the forum welcome\n",
      ". forum welcome to\n",
      ". laugh so much\n",
      ". ever consider going\n",
      ". you ever consider\n",
      ". bungee jumping skydiving\n",
      ". consider going bungee\n",
      ". going bungee jumping\n",
      "# 'INFP':\n",
      "  . Most correlated unigrams:\n",
      ". refugee\n",
      ". beautiful\n",
      ". love\n",
      ". infpblog\n",
      ". mew\n",
      ". fe\n",
      ". feel\n",
      ". infpness\n",
      ". ni\n",
      ". ti\n",
      "  . Most correlated bigrams:\n",
      ". forever alone\n",
      ". john lennon\n",
      ". my heart\n",
      ". ex coke\n",
      ". feel like\n",
      ". questions ex\n",
      ". the healer\n",
      ". the smiths\n",
      ". monsieur melancholy\n",
      ". my infpness\n",
      "  . Most correlated trigrams:\n",
      ". or that type\n",
      ". coke or pepsi\n",
      ". when you lost\n",
      ". you like animals\n",
      ". number of partners\n",
      ". that type questions\n",
      ". type questions ex\n",
      ". questions ex coke\n",
      ". ex coke or\n",
      ". am the one\n",
      "# 'ENTP':\n",
      "  . Most correlated unigrams:\n",
      ". fueledbyevil\n",
      ". cray\n",
      ". entpness\n",
      ". ti\n",
      ". 3w2\n",
      ". parrot\n",
      ". haldir\n",
      ". jamaia\n",
      ". geonerd\n",
      ". ne\n",
      "  . Most correlated bigrams:\n",
      ". instinctual subtype\n",
      ". tmlt to\n",
      ". desire machine\n",
      ". drunk parrot\n",
      ". basic questions\n",
      ". city country\n",
      ". or age\n",
      ". questions age\n",
      ". or region\n",
      ". ne ti\n",
      "  . Most correlated trigrams:\n",
      ". tell us something\n",
      ". us something about\n",
      ". about your social\n",
      ". basic questions age\n",
      ". questions age or\n",
      ". city country and\n",
      ". country and or\n",
      ". and or region\n",
      ". age or age\n",
      ". or age range\n",
      "# 'INTP':\n",
      "  . Most correlated unigrams:\n",
      ". evolution\n",
      ". empiricism\n",
      ". wikipedia\n",
      ". tmlt\n",
      ". ti\n",
      ". intpish\n",
      ". nihilism\n",
      ". darkbarlow\n",
      ". universe\n",
      ". physics\n",
      "  . Most correlated bigrams:\n",
      ". tv tropes\n",
      ". the universe\n",
      ". evolution is\n",
      ". goes it\n",
      ". ti ne\n",
      ". 40 living\n",
      ". cool cool\n",
      ". inferior fe\n",
      ". parents basement\n",
      ". free will\n",
      "  . Most correlated trigrams:\n",
      ". about this you\n",
      ". of 10 how\n",
      ". you in high\n",
      ". committed are you\n",
      ". year old virgin\n",
      ". 40 year old\n",
      ". in their parents\n",
      ". home in their\n",
      ". 40 living at\n",
      ". their parents basement\n",
      "# 'INTJ':\n",
      "  . Most correlated unigrams:\n",
      ". science\n",
      ". assumptious\n",
      ". salutations\n",
      ". lilysocks\n",
      ". tmlt\n",
      ". napoleptic\n",
      ". moi\n",
      ". abraxas\n",
      ". antiant\n",
      ". bethdeth\n",
      "  . Most correlated bigrams:\n",
      ". in destiny\n",
      ". mental self\n",
      ". enjoy flirting\n",
      ". like tea\n",
      ". how downhill\n",
      ". hot tea\n",
      ". downhill it\n",
      ". specifically hot\n",
      ". tea specifically\n",
      ". action potential\n",
      "  . Most correlated trigrams:\n",
      ". you enjoy flirting\n",
      ". downhill it is\n",
      ". about society and\n",
      ". you often think\n",
      ". how downhill it\n",
      ". and how downhill\n",
      ". specifically hot tea\n",
      ". like tea specifically\n",
      ". tea specifically hot\n",
      ". you like tea\n",
      "# 'ISTJ':\n",
      "  . Most correlated unigrams:\n",
      ". snails\n",
      ". yardiff\n",
      ". repent\n",
      ". enthusiast\n",
      ". daisychain\n",
      ". jcal\n",
      ". sela\n",
      ". niss\n",
      ". rant\n",
      ". rave\n",
      "  . Most correlated bigrams:\n",
      ". thinking ti\n",
      ". here hello\n",
      ". your religious\n",
      ". my supervisor\n",
      ". brands of\n",
      ". inferior ne\n",
      ". playing computer\n",
      ". intuition ne\n",
      ". rant my\n",
      ". mbti enthusiast\n",
      "  . Most correlated trigrams:\n",
      ". keep it simple\n",
      ". of running shoes\n",
      ". and welcome to\n",
      ". might be if\n",
      ". not that close\n",
      ". the best so\n",
      ". and on and\n",
      ". you always look\n",
      ". introverted thinking ti\n",
      ". enjoy it here\n",
      "# 'ISFP':\n",
      "  . Most correlated unigrams:\n",
      ". griffin\n",
      ". veggie\n",
      ". sei\n",
      ". permissive\n",
      ". drawing\n",
      ". streaming\n",
      ". kayness\n",
      ". fiancé\n",
      ". firedell\n",
      ". ferroequinologist\n",
      "  . Most correlated bigrams:\n",
      ". less sexually\n",
      ". or ice\n",
      ". perc welcome\n",
      ". friend welcome\n",
      ". sexually permissive\n",
      ". someone personality\n",
      ". introvert extrovert\n",
      ". blood type\n",
      ". smile today\n",
      ". red spirit\n",
      "  . Most correlated trigrams:\n",
      ". easier for you\n",
      ". and the types\n",
      ". love love love\n",
      ". less sexually permissive\n",
      ". to perc welcome\n",
      ". are less sexually\n",
      ". perc welcome to\n",
      ". fi ni loop\n",
      ". me smile today\n",
      ". the red spirit\n",
      "# 'ENFJ':\n",
      "  . Most correlated unigrams:\n",
      ". tortilla\n",
      ". ellie\n",
      ". loove\n",
      ". aerosmith\n",
      ". giggles\n",
      ". thrice\n",
      ". iamken\n",
      ". seeker\n",
      ". jawz\n",
      ". eggsies\n",
      "  . Most correlated bigrams:\n",
      ". since get\n",
      ". hmm wonder\n",
      ". and unsure\n",
      ". shes an\n",
      ". se loop\n",
      ". dear life\n",
      ". helping them\n",
      ". hug for\n",
      ". work work\n",
      ". welcome welcome\n",
      "  . Most correlated trigrams:\n",
      ". you said there\n",
      ". over in the\n",
      ". that video is\n",
      ". you all of\n",
      ". certain things but\n",
      ". to judge the\n",
      ". year and we\n",
      ". know is not\n",
      ". happy about nothing\n",
      ". welcome welcome welcome\n",
      "# 'ENTJ':\n",
      "  . Most correlated unigrams:\n",
      ". sangoire\n",
      ". siggy\n",
      ". 8w9\n",
      ". prada\n",
      ". stackings\n",
      ". 8w7\n",
      ". elistra\n",
      ". canis\n",
      ". stawker\n",
      ". msbossypants\n",
      "  . Most correlated bigrams:\n",
      ". interested what\n",
      ". taking charge\n",
      ". is stressed\n",
      ". an 8w7\n",
      ". case closed\n",
      ". term goals\n",
      ". rational type\n",
      ". te ni\n",
      ". homeless man\n",
      ". mr canis\n",
      "  . Most correlated trigrams:\n",
      ". not the problem\n",
      ". man on the\n",
      ". from my samsung\n",
      ". them not sure\n",
      ". complaining about the\n",
      ". ni se fi\n",
      ". long term goals\n",
      ". when see an\n",
      ". type type type\n",
      ". te ni se\n",
      "# 'ESFJ':\n",
      "  . Most correlated unigrams:\n",
      ". resisted\n",
      ". insidious\n",
      ". regina\n",
      ". elses\n",
      ". attendant\n",
      ". vous\n",
      ". marzipan01\n",
      ". français\n",
      ". bilbo\n",
      ". felix\n",
      "  . Most correlated bigrams:\n",
      ". business so\n",
      ". 23 years\n",
      ". bow to\n",
      ". tapatalk the\n",
      ". as adults\n",
      ". favorite food\n",
      ". mid sentence\n",
      ". my advantage\n",
      ". am guy\n",
      ". happy happy\n",
      "  . Most correlated trigrams:\n",
      ". to fight for\n",
      ". like me are\n",
      ". can pretend to\n",
      ". its nice to\n",
      ". was wondering why\n",
      ". an fe dom\n",
      ". using tapatalk the\n",
      ". as an fe\n",
      ". to my advantage\n",
      ". happy happy happy\n",
      "# 'ESTP':\n",
      "  . Most correlated unigrams:\n",
      ". ow\n",
      ". cough\n",
      ". censor\n",
      ". zoe\n",
      ". subservient\n",
      ". tomboy\n",
      ". kawaii\n",
      ". corinthians\n",
      ". monemi\n",
      ". butthole\n",
      "  . Most correlated bigrams:\n",
      ". se doms\n",
      ". is unknown\n",
      ". you score\n",
      ". ruling out\n",
      ". cough cough\n",
      ". almost 100\n",
      ". other videos\n",
      ". she helps\n",
      ". out hello\n",
      ". usually turn\n",
      "  . Most correlated trigrams:\n",
      ". friend with benefits\n",
      ". to know your\n",
      ". but these are\n",
      ". is female and\n",
      ". ive never been\n",
      ". se ti fe\n",
      ". bunch of other\n",
      ". know your type\n",
      ". from my phone\n",
      ". hello am an\n"
     ]
    }
   ],
   "source": [
    "tfidf = TfidfVectorizer(stop_words=mbti_types, ngram_range=(1, 3), min_df=10)\n",
    "features = tfidf.fit_transform(data.posts).toarray()\n",
    "labels = data.type_code\n",
    "\n",
    "# sourced from: https://towardsdatascience.com/multi-class-text-classification-with-scikit-learn-12f1e60e0a9f\n",
    "for type, type_code in type_code_dict.items():\n",
    "  features_chi2 = chi2(features, labels == type_code)\n",
    "  indices = np.argsort(features_chi2[0])\n",
    "  feature_names = np.array(tfidf.get_feature_names())[indices]\n",
    "  unigrams = [v for v in feature_names if len(v.split(' ')) == 1]\n",
    "  bigrams = [v for v in feature_names if len(v.split(' ')) == 2]\n",
    "  trigrams = [v for v in feature_names if len(v.split(' ')) == 3]\n",
    "  print(\"# '{}':\".format(type))\n",
    "  print(\"  . Most correlated unigrams:\\n. {}\".format('\\n. '.join(unigrams[-10:])))\n",
    "  print(\"  . Most correlated bigrams:\\n. {}\".format('\\n. '.join(bigrams[-10:])))\n",
    "  print(\"  . Most correlated trigrams:\\n. {}\".format('\\n. '.join(trigrams[-10:])))"
   ]
  },
  {
   "cell_type": "markdown",
   "metadata": {},
   "source": [
    "<div class=\"alert alert-block alert-success\">\n",
    "<b>Update:</b> Prefer the results seen from TFIDF thats not using the english stop words and only exclusing mbti_types word collection. [timestamp: 2/17-8:17p]</div>"
   ]
  },
  {
   "cell_type": "markdown",
   "metadata": {},
   "source": [
    "<br><br>\n",
    "### **Investigation Thread**: What does '1w2' mean?"
   ]
  },
  {
   "cell_type": "code",
   "execution_count": 156,
   "metadata": {},
   "outputs": [
    {
     "data": {
      "text/plain": [
       "'enneagram 4w5 6w5 1w2 so sp 1 infj 67 2 infp 11 3 intj 7 mbti infj 100 enneagram 4w5 so sp 461 60 oldham sensitive leisurely idiosyncratic mbti infj t advocate protector reformer counselor psychologist confidant enneagram 4w5 so sp 4w5 6w5 1w2 philosopher activist moral alignment neutral good socionics eii ne 146 the philosopher fyodor dostoyevsky lisa simpson j k rowling typed herself as infj and i really can see that martin seems more of an intp to me my suggestions late generation x 1981 1984 generation y 1984 1995 1984 1988 1988 1995 late generation y 1995 1998 generation z 1998 2008 1998 2003 2003 2008 how i relate to the triads very strong withdrawn reactive strong frustration somehow mbti because i can t figure out my enneatype if i use the mbti function definitions not the socionic definitions my order of function development would be 1 ni 2 fe 3 ti 4 fi 5 te infj 100 3w4 totally unsure i switch between 3w4 4w3 4w5 5w4 5w6 6w5 and even somehow relate to 1w2 and 9w1 mental head heart gut hornevian withdrawn compliant assertive harmonic reactive competency positive outlook object relations si ac er the recommended career suggestions seem to fit very well i think i m an universal idealist thanks for the differentiation 1 colors of the wind pocahontas 2 part of your world the little mermaid 3 the beauty and the beast the beauty and the beast i d say infj i relate very much to what you ve written some people say infjs are warm outside but rather cold inside whereas the intj seems cold outside but is warm inside i do too hogwarts houses type 1 gryffindor hitofuri gryffindor sun daeva ravenclaw piscesfish slytherin figure type 2 gryffindor captswan hogwarts houses type 1 gryffindor hitofuri gryffindor sun daeva ravenclaw piscesfish slytherin figure type 2 gryffindor captswan sensitive curious idealistic introverted judgemental what s your type and how do you score on the moral foundation test possible foundations care fairness loyality authority purity liberty estp minotaur estj cantaur esfp satyr esfj genie istp gargoyle werewolf istj gryffin isfp dryad isfj pegasus i would guess 592 or maybe 582 i would say 495 or 459 i speak german and spanish fluently i can express myself in english though it could be much better i can read dutch and the other roman languages and i learned latin at school but only to this test is created by the user rouskyrie he also opend this thread calling everyone who hasn t found their tritype tritype descriptons more descriptions tritype videos tritypes leading with 5 the test remindes me of the fauvre tritype test they use almost exactly the same terms my result resultat type 1 tritype 146 164 the tritype is correct but i m not a core 1 estp red estj grey esfp orange esfj pink magenta istp brown istj green isfp pastel green isfj white creme entp yellow entj dark red burgundy you preferred social th most followe by investigative an artistic you si lette personalit typ is siacer boldes my favs almost everything from woody allen especially match point 2005 vicky cristina barcelona 2008 midnight in paris 2011 childhood movies the last unicorn 1982 the estp minotaur estj centaur esfp satyr esfj genie istp gargoyle werewolf istj gryffin isfp dryade isfj pegasus entp harpy entj dragon dad entj mom esfp me infj brother istj it was a long way to figure out my exact tritype 145 or 146 1 451 4w5 5w4 1w2 without instincts 2 541 5w4 4w5 1w2 without instincts 3 541 5w6 4w5 1w2 without instincts 4 145 ones w2 apdenoatis 1w2 2w1 5w6 sx so probably giga blender 1w2 2w1 5w6 zamyatin 1w2 3w4 6w5 sp sx vaan 1w2 3w4 7w6 sx so from what i read from you i would suggest istp or isfp your score for openness was high at 83 your score for conscientiousness was moderate at 65 your score for extraversion was low at 35 your score for agreeableness was moderate at 58 if i only consider this test result i would guess intp i notice the trend that intps usually score high on ti ni ne and low on te fe se intjs on the other hand score high on ni ti te and low i m an infj and usually score high on fi too infjs often score high on both fi and fe ni whereas infps are used to score high on ni and ne fi infp intj enfj and istj liked history mathematics ethic class philosophy social sciences political sciences geography music biology i d vote for infp i agree a clear intp a red panda i think did the test many times always get either reformer or advocate i think it fits perfectly 6w5 1w2 4w5 so sp sensitive leisurely idiosyncratic in alphabetical order 1 agnostic 2 avoidant procrastinative 3 cautious 4 conceptual 5 curious 6 determined 7 funny humorous 8 idealistic in my opinion myers briggs type and the specific function stack you mentioned doesn t have to match because i think this are two different theories if i type someone solely by functions i enxp for you 1 sensitive 2 curious 3 idealistic feminism society animals 4 i need a lot of time for myself to research to read etc 5 perfectionisitc depends on subject istj and istp i did the tests several times and sometimes the results differ from each other mbti infj hogwarts house ravenclaw hufflepuff wand vine unicorn hair core 11 1 2 slightly yielding'"
      ]
     },
     "execution_count": 156,
     "metadata": {},
     "output_type": "execute_result"
    }
   ],
   "source": [
    "data['posts'].iloc[298]"
   ]
  },
  {
   "cell_type": "markdown",
   "metadata": {},
   "source": [
    "<br><br>"
   ]
  },
  {
   "cell_type": "code",
   "execution_count": 157,
   "metadata": {},
   "outputs": [],
   "source": [
    "data_orig = pd.read_csv('../../data/original/mbti_1.csv')"
   ]
  },
  {
   "cell_type": "code",
   "execution_count": 158,
   "metadata": {},
   "outputs": [
    {
     "data": {
      "text/plain": [
       "\"'Enneagram: 4w5-6w5-1w2 so/sp  1. INFJ 67% 2. INFP 11% 3. INTJ 7%|||MBTI: INFJ (100%) Enneagram: 4w5 so/sp (461) (60%) Oldham: Sensitive > Leisurely > Idiosyncratic|||MBTI: INFJ(-T) (Advocate, Protector, Reformer, Counselor, Psychologist, Confidant) Enneagram: 4w5 so/sp (4w5-6w5-1w2) Philosopher/Activist Moral Alignment: Neutral Good Socionics: EII-Ne...|||146 (The Philosopher): Fyodor Dostoyevsky, Lisa Simpson|||J.K.Rowling typed herself as INFJ. and I really can see that. Martin seems more of an INTP to me.|||My suggestions:  Late Generation X: 1981-1984  Generation Y: 1984-1995 (1984-1988 // 1988-1995)  Late Generation Y: 1995-1998  Generation Z: 1998-2008 (1998-2003 // 2003-2008)|||How I relate to the triads:  Very Strong: Withdrawn Reactive  Strong: Frustration  Somehow:|||MBTI, because I can't figure out my Enneatype.|||If I use the MBTI-function-definitions (NOT the Socionic definitions), my order of function development would be:  1. Ni 2. Fe 3. Ti . . . 4. Fi 5. Te|||INFJ 100% 3w4 totally unsure. I switch between 3w4-4w3-4w5-5w4-5w6-6w5 and even somehow relate to 1w2 and 9w1...|||Mental * Head > Heart > Gut  Hornevian * Withdrawn = Compliant >>>>>>  Assertive  Harmonic * Reactive = Competency > >>>>>>>> Positive outlook  Object relations|||SI > AC > ER  The recommended career suggestions seem to fit very well.|||I think I'm an universal Idealist. Thanks for the differentiation.|||1. Colors of the Wind (Pocahontas) 2. Part of your World (The little Mermaid) 3. The Beauty and the Beast (The Beauty and the Beast)|||I'd say INFJ. I relate very much to what you've written. Some people say INFJs are warm outside but rather cold inside, whereas the INTJ seems cold outside but is warm inside.|||I do, too!|||Hogwarts Houses  Type 1 Gryffindor - Hitofuri Gryffindor - Sun Daeva Ravenclaw - piscesfish Slytherin - Figure  Type 2 Gryffindor - CaptSwan|||Hogwarts Houses  Type 1 Gryffindor - Hitofuri Gryffindor - Sun Daeva Ravenclaw - piscesfish Slytherin - Figure  Type 2 Gryffindor - CaptSwan|||sensitive, curious, idealistic, introverted, judgemental|||What's your type and how do you score on the Moral Foundation Test?  Possible foundations: * Care * Fairness * Loyality * Authority * Purity * Liberty|||ESTP: Minotaur ESTJ: Cantaur ESFP: Satyr ESFJ: Genie  ISTP: Gargoyle/Werewolf ISTJ: Gryffin ISFP: Dryad ISFJ: Pegasus|||I would guess 592 or maybe 582|||I would say 495 or 459|||I speak german and spanish fluently. I can express myself in english (though it could be much better...) I can read dutch and the other roman languages and I learned latin at school. But only to...|||This test is created by the user Rouskyrie. He also opend this thread: Calling everyone who hasn't found their tritype|||+ Tritype descriptons  + more descriptions + Tritype videos  + Tritypes leading with 5|||The test remindes me of the Fauvre-tritype-test. They use almost exactly the same terms.   My result: Resultat: Type: 1 Tritype: 146/164  The tritype is correct, but I#m not a core-1.|||ESTP: red ESTJ: grey ESFP: orange ESFJ: pink/magenta ISTP: brown ISTJ: green ISFP: pastel green ISFJ: white/creme ENTP: yellow ENTJ: dark red/burgundy|||You preferred 'Social th most followe by 'Investigative an 'Artistic' You si lette personalit typ is 'SIACER'.|||Boldes: My favs  Almost everything from Woody Allen, especially: * Match Point 2005 * Vicky Cristina Barcelona 2008 * Midnight in Paris 2011  Childhood Movies: * The last unicorn 1982 * The...|||ESTP: Minotaur ESTJ: Centaur ESFP: Satyr ESFJ: Genie ISTP: Gargoyle/Werewolf ISTJ: Gryffin ISFP: Dryade ISFJ: Pegasus ENTP: Harpy ENTJ: Dragon|||Dad: ENTJ Mom: ESFP Me: INFJ Brother: ISTJ|||It was a long way to figure out my exact tritype (145 or 146)  1. 451: 4w5-5w4-1w2 (without instincts) 2. 541: 5w4-4w5-1w2 (without instincts) 3. 541: 5w6-4w5-1w2 (without instincts) 4. 145:...|||Ones:  w2  Apdenoatis:            1w2 2w1 5w6 sx/so (probably) Giga Blender:            1w2 2w1 5w6  Zamyatin:            1w2 3w4 6w5 sp/sx  Vaan:                1w2 3w4 7w6 sx/so|||From what I read from you, I would suggest ISTP or ISFP.|||Your score for openness was high, at 83%. Your score for Conscientiousness was moderate, at 65%. Your score for Extraversion was low, at 35%. Your score for Agreeableness was moderate, at 58%....|||If I only consider this test result, I would guess INTP. I notice the trend that INTPs usually score high on Ti/Ni/Ne and low on Te/Fe/(Se). INTJs -on the other hand- score high on Ni/Ti/Te and low...|||I'm an INFJ and usually score high on Fi, too. INFJs often score high on both Fi and Fe (+Ni) whereas INFPs are used to score high on Ni and Ne (+Fi).|||INFP, INTJ, ENFJ and ISTJ|||Liked:  - History - Mathematics - Ethic Class/Philosophy - Social Sciences - Political Sciences - Geography  - Music - Biology|||I'd vote for INFP.|||I agree. A clear INTP.|||A red panda, I think.|||Did the test many times. Always get either Reformer or Advocate. I think it fits perfectly.|||6w5=1w2=4w5 so=sp  Sensitive > Leisurely > Idiosyncratic|||In alphabetical order:  1. agnostic 2. avoidant/procrastinative 3. cautious 4. conceptual 5. curious 6. determined 7. funny/humorous 8. idealistic|||In my opinion Myers-Briggs-Type and the specific function stack you mentioned doesn't have to match, because I think this are two different theories.   If I type someone solely by functions, I...|||ENxP for you.  1) sensitive 2) curious 3) idealistic (feminism, society, animals...) 4) I need a lot of time for myself to research, to read, etc. 5) perfectionisitc (depends on subject)|||ISTJ and ISTP.|||I did the tests several times and sometimes the results differ from each other  MBTI: INFJ Hogwarts House: Ravenclaw > Hufflepuff Wand: Vine, Unicorn hair core, 11 1/2, slightly yielding...'\""
      ]
     },
     "execution_count": 158,
     "metadata": {},
     "output_type": "execute_result"
    }
   ],
   "source": [
    "data_orig['posts'].iloc[298]"
   ]
  },
  {
   "cell_type": "markdown",
   "metadata": {},
   "source": [
    "<div class=\"alert alert-block alert-info\">\n",
    "<b>Further Action:</b><br>\n",
    "* ~~Ti Fe Fe Ne terms refer to individual mbti character traits, add to mbti_terms stop word collection~~ <br>\n",
    "* 1w2 or any combination of #w# refer to explicit personailty traits, add to mbti_terms stop word collection <br>\n",
    "* ~~'enneagram' and 'mbti' are personality classification systems, add to mbti_terms stop word collection ~~<br>\n",
    "[timestamp: 2/17-8:42p]<br><br>\n",
    "<b>UPDATED:</b> Completed items struck-through. [timestamp: 2/17-9:37p]\n",
    "</div>"
   ]
  }
 ],
 "metadata": {
  "kernelspec": {
   "display_name": "Python 3",
   "language": "python",
   "name": "python3"
  },
  "language_info": {
   "codemirror_mode": {
    "name": "ipython",
    "version": 3
   },
   "file_extension": ".py",
   "mimetype": "text/x-python",
   "name": "python",
   "nbconvert_exporter": "python",
   "pygments_lexer": "ipython3",
   "version": "3.8.5"
  }
 },
 "nbformat": 4,
 "nbformat_minor": 4
}
